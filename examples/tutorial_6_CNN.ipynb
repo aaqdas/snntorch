{
  "cells": [
    {
      "cell_type": "markdown",
      "metadata": {
        "id": "view-in-github",
        "colab_type": "text"
      },
      "source": [
        "<a href=\"https://colab.research.google.com/github/aaqdas/snntorch/blob/master/examples/tutorial_6_CNN.ipynb\" target=\"_parent\"><img src=\"https://colab.research.google.com/assets/colab-badge.svg\" alt=\"Open In Colab\"/></a>"
      ]
    },
    {
      "cell_type": "markdown",
      "metadata": {
        "collapsed": false,
        "id": "uSGZ6cdmpknm",
        "pycharm": {
          "name": "#%% md\n"
        }
      },
      "source": [
        "[<img src='https://github.com/jeshraghian/snntorch/blob/master/docs/_static/img/snntorch_alpha_w.png?raw=true' width=\"400\">](https://github.com/jeshraghian/snntorch/)\n",
        "\n",
        "# snnTorch - Surrogate Gradient Descent in a Convolutional Spiking Neural Network\n",
        "## Tutorial 6\n",
        "### By Jason K. Eshraghian (www.ncg.ucsc.edu)\n",
        "\n",
        "<a href=\"https://colab.research.google.com/github/jeshraghian/snntorch/blob/master/examples/tutorial_6_CNN.ipynb\">\n",
        "  <img src=\"https://colab.research.google.com/assets/colab-badge.svg\" alt=\"Open In Colab\"/>\n",
        "</a>\n",
        "\n",
        "[<img src='https://github.com/jeshraghian/snntorch/blob/master/docs/_static/img/GitHub-Mark-Light-120px-plus.png?raw=true' width=\"28\">](https://github.com/jeshraghian/snntorch/) [<img src='https://github.com/jeshraghian/snntorch/blob/master/docs/_static/img/GitHub_Logo_White.png?raw=true' width=\"80\">](https://github.com/jeshraghian/snntorch/)"
      ]
    },
    {
      "cell_type": "markdown",
      "metadata": {
        "id": "rugeYYiqsrlc"
      },
      "source": [
        "The snnTorch tutorial series is based on the following paper. If you find these resources or code useful in your work, please consider citing the following source:\n",
        "\n",
        "> <cite> [Jason K. Eshraghian, Max Ward, Emre Neftci, Xinxin Wang, Gregor Lenz, Girish Dwivedi, Mohammed Bennamoun, Doo Seok Jeong, and Wei D. Lu. \"Training Spiking Neural Networks Using Lessons From Deep Learning\". Proceedings of the IEEE, 111(9) September 2023.](https://ieeexplore.ieee.org/abstract/document/10242251) </cite>\n"
      ]
    },
    {
      "cell_type": "markdown",
      "metadata": {
        "id": "Ymi3sqJg28OQ"
      },
      "source": [
        "# Introduction\n",
        "In this tutorial, you will:\n",
        "* Learn how to modify surrogate gradient descent to overcome the dead neuron problem\n",
        "* Construct and train a convolutional spiking neural network\n",
        "* Use a sequential container, `nn.Sequential` to simplify model construction\n",
        "\n",
        "Part of this tutorial was inspired by Friedemann Zenke’s extensive\n",
        "work on SNNs. Check out his repo on surrogate gradients\n",
        "[here](https://github.com/fzenke/spytorch), and a favourite paper\n",
        "of mine: E. O. Neftci, H. Mostafa, F. Zenke, [Surrogate Gradient\n",
        "Learning in Spiking Neural Networks: Bringing the Power of\n",
        "Gradient-based optimization to spiking neural\n",
        "networks.](https://ieeexplore.ieee.org/document/8891809) IEEE\n",
        "Signal Processing Magazine 36, 51–63.\n",
        "\n",
        "At the end of the tutorial, we will train a convolutional spiking neural network (CSNN) using the MNIST dataset to perform image classification. The background theory follows on from [Tutorials 2, 4 and 5](https://snntorch.readthedocs.io/en/latest/tutorials/index.html), so feel free to go back if you need to brush up.\n",
        "\n",
        "If running in Google Colab:\n",
        "* You may connect to GPU by checking `Runtime` > `Change runtime type` > `Hardware accelerator: GPU`\n",
        "* Next, install the latest PyPi distribution of snnTorch by clicking into the following cell and pressing `Shift+Enter`."
      ]
    },
    {
      "cell_type": "code",
      "execution_count": 2,
      "metadata": {
        "id": "5tn_wUlopkon",
        "pycharm": {
          "name": "#%%\n"
        },
        "outputId": "cc370d94-0d53-4847-8c0f-6b9784c56d49",
        "colab": {
          "base_uri": "https://localhost:8080/"
        }
      },
      "outputs": [
        {
          "output_type": "stream",
          "name": "stdout",
          "text": [
            "Collecting snntorch\n",
            "  Downloading snntorch-0.7.0-py2.py3-none-any.whl (108 kB)\n",
            "\u001b[2K     \u001b[90m━━━━━━━━━━━━━━━━━━━━━━━━━━━━━━━━━━━━━━━━\u001b[0m \u001b[32m109.0/109.0 kB\u001b[0m \u001b[31m1.8 MB/s\u001b[0m eta \u001b[36m0:00:00\u001b[0m\n",
            "\u001b[?25hRequirement already satisfied: torch>=1.1.0 in /usr/local/lib/python3.10/dist-packages (from snntorch) (2.1.0+cu118)\n",
            "Requirement already satisfied: pandas in /usr/local/lib/python3.10/dist-packages (from snntorch) (1.5.3)\n",
            "Requirement already satisfied: matplotlib in /usr/local/lib/python3.10/dist-packages (from snntorch) (3.7.1)\n",
            "Requirement already satisfied: numpy>=1.17 in /usr/local/lib/python3.10/dist-packages (from snntorch) (1.23.5)\n",
            "Collecting nir (from snntorch)\n",
            "  Downloading nir-0.2.0-py3-none-any.whl (21 kB)\n",
            "Collecting nirtorch (from snntorch)\n",
            "  Downloading nirtorch-0.2.1-py3-none-any.whl (10 kB)\n",
            "Requirement already satisfied: filelock in /usr/local/lib/python3.10/dist-packages (from torch>=1.1.0->snntorch) (3.13.1)\n",
            "Requirement already satisfied: typing-extensions in /usr/local/lib/python3.10/dist-packages (from torch>=1.1.0->snntorch) (4.5.0)\n",
            "Requirement already satisfied: sympy in /usr/local/lib/python3.10/dist-packages (from torch>=1.1.0->snntorch) (1.12)\n",
            "Requirement already satisfied: networkx in /usr/local/lib/python3.10/dist-packages (from torch>=1.1.0->snntorch) (3.2.1)\n",
            "Requirement already satisfied: jinja2 in /usr/local/lib/python3.10/dist-packages (from torch>=1.1.0->snntorch) (3.1.2)\n",
            "Requirement already satisfied: fsspec in /usr/local/lib/python3.10/dist-packages (from torch>=1.1.0->snntorch) (2023.6.0)\n",
            "Requirement already satisfied: triton==2.1.0 in /usr/local/lib/python3.10/dist-packages (from torch>=1.1.0->snntorch) (2.1.0)\n",
            "Requirement already satisfied: contourpy>=1.0.1 in /usr/local/lib/python3.10/dist-packages (from matplotlib->snntorch) (1.2.0)\n",
            "Requirement already satisfied: cycler>=0.10 in /usr/local/lib/python3.10/dist-packages (from matplotlib->snntorch) (0.12.1)\n",
            "Requirement already satisfied: fonttools>=4.22.0 in /usr/local/lib/python3.10/dist-packages (from matplotlib->snntorch) (4.44.3)\n",
            "Requirement already satisfied: kiwisolver>=1.0.1 in /usr/local/lib/python3.10/dist-packages (from matplotlib->snntorch) (1.4.5)\n",
            "Requirement already satisfied: packaging>=20.0 in /usr/local/lib/python3.10/dist-packages (from matplotlib->snntorch) (23.2)\n",
            "Requirement already satisfied: pillow>=6.2.0 in /usr/local/lib/python3.10/dist-packages (from matplotlib->snntorch) (9.4.0)\n",
            "Requirement already satisfied: pyparsing>=2.3.1 in /usr/local/lib/python3.10/dist-packages (from matplotlib->snntorch) (3.1.1)\n",
            "Requirement already satisfied: python-dateutil>=2.7 in /usr/local/lib/python3.10/dist-packages (from matplotlib->snntorch) (2.8.2)\n",
            "Requirement already satisfied: h5py in /usr/local/lib/python3.10/dist-packages (from nir->snntorch) (3.9.0)\n",
            "Requirement already satisfied: pytz>=2020.1 in /usr/local/lib/python3.10/dist-packages (from pandas->snntorch) (2023.3.post1)\n",
            "Requirement already satisfied: six>=1.5 in /usr/local/lib/python3.10/dist-packages (from python-dateutil>=2.7->matplotlib->snntorch) (1.16.0)\n",
            "Requirement already satisfied: MarkupSafe>=2.0 in /usr/local/lib/python3.10/dist-packages (from jinja2->torch>=1.1.0->snntorch) (2.1.3)\n",
            "Requirement already satisfied: mpmath>=0.19 in /usr/local/lib/python3.10/dist-packages (from sympy->torch>=1.1.0->snntorch) (1.3.0)\n",
            "Installing collected packages: nir, nirtorch, snntorch\n",
            "Successfully installed nir-0.2.0 nirtorch-0.2.1 snntorch-0.7.0\n"
          ]
        }
      ],
      "source": [
        "!pip install snntorch"
      ]
    },
    {
      "cell_type": "code",
      "execution_count": 3,
      "metadata": {
        "id": "QXZ6Tuqc9Q-l",
        "outputId": "79280769-c3c7-4282-a836-3210b6a128e1",
        "colab": {
          "base_uri": "https://localhost:8080/"
        }
      },
      "outputs": [
        {
          "output_type": "stream",
          "name": "stderr",
          "text": [
            "<ipython-input-3-bd886847109b>:4: DeprecationWarning: The module snntorch.backprop will be deprecated in  a future release. Writing out your own training loop will lead to substantially faster performance.\n",
            "  from snntorch import backprop\n"
          ]
        }
      ],
      "source": [
        "# imports\n",
        "import snntorch as snn\n",
        "from snntorch import surrogate\n",
        "from snntorch import backprop\n",
        "from snntorch import functional as SF\n",
        "from snntorch import utils\n",
        "from snntorch import spikeplot as splt\n",
        "\n",
        "import torch\n",
        "import torch.nn as nn\n",
        "from torch.utils.data import DataLoader\n",
        "from torchvision import datasets, transforms\n",
        "import torch.nn.functional as F\n",
        "\n",
        "import matplotlib.pyplot as plt\n",
        "import numpy as np\n",
        "import itertools"
      ]
    },
    {
      "cell_type": "markdown",
      "metadata": {
        "id": "gt2xMbLY9dVE"
      },
      "source": [
        "# 1. Surrogate Gradient Descent"
      ]
    },
    {
      "cell_type": "markdown",
      "metadata": {
        "id": "zJddJWoa0GT6"
      },
      "source": [
        "[Tutorial 5](https://snntorch.readthedocs.io/en/latest/tutorials/index.html) raised the **dead neuron problem**. This arises because of the non-differentiability of spikes:\n",
        "\n",
        "\n",
        "$$S[t] = \\Theta(U[t] - U_{\\rm thr}) \\tag{1}$$\n",
        "$$\\frac{\\partial S}{\\partial U} = \\delta(U - U_{\\rm thr}) \\in \\{0, \\infty\\} \\tag{2}$$\n",
        "\n",
        "where $\\Theta(\\cdot)$ is the Heaviside step function, and $\\delta(\\cdot)$ is the Dirac-Delta function. We previously overcame this using the gradient of the threshold-shifted *ArcTangent* function on the backward pass instead.\n",
        "\n",
        "Other common smoothing functions include the sigmoid function, or the fast sigmoid function. The sigmoidal functions must also be shifted such that they are centered at the threshold $U_{\\rm thr}$. Defining  the overdrive of the membrane potential as $U_{OD} = U - U_{\\rm thr}$:\n",
        "\n",
        "$$\\tilde{S} = \\frac{U_{OD}}{1+k|U_{OD}|} \\tag{3}$$\n",
        "$$\\frac{\\partial \\tilde{S}}{\\partial U} = \\frac{1}{(k|U_{OD}|+1)^2}\\tag{4}$$\n",
        "\n",
        "where $k$ modulates how smooth the surrogate function is, and is treated as a hyperparameter. As $k$ increases, the approximation converges towards the original derivative in $(2)$:  \n",
        "\n",
        "$$\\frac{\\partial \\tilde{S}}{\\partial U} \\Bigg|_{k \\rightarrow \\infty} = \\delta(U-U_{\\rm thr})$$\n",
        "\n",
        "\n",
        "<center>\n",
        "<img src='https://github.com/jeshraghian/snntorch/blob/master/docs/_static/img/examples/tutorial6/surrogate.png?raw=true' width=\"800\">\n",
        "</center>\n",
        "\n",
        "To summarize:\n",
        "\n",
        "* **Forward Pass**\n",
        "  - Determine $S$ using the shifted Heaviside function in $(1)$\n",
        "  - Store $U$ for later use during the backward pass\n",
        "* **Backward Pass**\n",
        "  - Pass $U$ into $(4)$ to calculate the derivative term\n",
        "\n",
        "In the same way the *ArcTangent* approach was used in [Tutorial 5](https://snntorch.readthedocs.io/en/latest/tutorials/index.html),\n",
        "the gradient of the fast sigmoid function can override the Dirac-Delta function in a Leaky Integrate-and-Fire\n",
        "(LIF) neuron model:"
      ]
    },
    {
      "cell_type": "code",
      "execution_count": 4,
      "metadata": {
        "id": "5lqpuT--bZmJ"
      },
      "outputs": [],
      "source": [
        "# Leaky neuron model, overriding the backward pass with a custom function\n",
        "class LeakySigmoidSurrogate(nn.Module):\n",
        "  def __init__(self, beta, threshold=1.0, k=25):\n",
        "\n",
        "      # Leaky_Surrogate is defined in the previous tutorial and not used here\n",
        "      super(Leaky_Surrogate, self).__init__()\n",
        "\n",
        "      # initialize decay rate beta and threshold\n",
        "      self.beta = beta\n",
        "      self.threshold = threshold\n",
        "      self.surrogate_func = self.FastSigmoid.apply\n",
        "\n",
        "  # the forward function is called each time we call Leaky\n",
        "  def forward(self, input_, mem):\n",
        "    spk = self.surrogate_func((mem-self.threshold))  # call the Heaviside function\n",
        "    reset = (spk - self.threshold).detach()\n",
        "    mem = self.beta * mem + input_ - reset\n",
        "    return spk, mem\n",
        "\n",
        "  # Forward pass: Heaviside function\n",
        "  # Backward pass: Override Dirac Delta with gradient of fast sigmoid\n",
        "  @staticmethod\n",
        "  class FastSigmoid(torch.autograd.Function):\n",
        "    @staticmethod\n",
        "    def forward(ctx, mem, k=25):\n",
        "        ctx.save_for_backward(mem) # store the membrane potential for use in the backward pass\n",
        "        ctx.k = k\n",
        "        out = (mem > 0).float() # Heaviside on the forward pass: Eq(1)\n",
        "        return out\n",
        "\n",
        "    @staticmethod\n",
        "    def backward(ctx, grad_output):\n",
        "        (mem,) = ctx.saved_tensors  # retrieve membrane potential\n",
        "        grad_input = grad_output.clone()\n",
        "        grad = grad_input / (ctx.k * torch.abs(mem) + 1.0) ** 2  # gradient of fast sigmoid on backward pass: Eq(4)\n",
        "        return grad, None"
      ]
    },
    {
      "cell_type": "markdown",
      "metadata": {
        "id": "4aQvFG7ajpzU"
      },
      "source": [
        "Better yet, all of that can be condensed by using the built-in module `snn.surrogate` from snnTorch, where $k$ from $(4)$ is denoted `slope`. The surrogate gradient is passed into `spike_grad` as an argument:"
      ]
    },
    {
      "cell_type": "code",
      "execution_count": 5,
      "metadata": {
        "id": "2dCWD_qajyLw"
      },
      "outputs": [],
      "source": [
        "spike_grad = surrogate.fast_sigmoid(slope=25)\n",
        "beta = 0.5\n",
        "\n",
        "lif1 = snn.Leaky(beta=beta, spike_grad=spike_grad)"
      ]
    },
    {
      "cell_type": "markdown",
      "metadata": {
        "id": "Ffn7D6omkj5r"
      },
      "source": [
        "To explore the other surrogate gradient functions available, [take a look at the documentation here.](https://snntorch.readthedocs.io/en/latest/snntorch.surrogate.html)"
      ]
    },
    {
      "cell_type": "markdown",
      "metadata": {
        "id": "Wgzf83HE2BeB"
      },
      "source": [
        "# 2. Setting up the CSNN\n",
        "## 2.1 DataLoaders"
      ]
    },
    {
      "cell_type": "code",
      "execution_count": 6,
      "metadata": {
        "id": "pxO32dntlOB2"
      },
      "outputs": [],
      "source": [
        "# dataloader arguments\n",
        "batch_size = 128\n",
        "data_path='/tmp/data/mnist'\n",
        "\n",
        "dtype = torch.float\n",
        "device = torch.device(\"cuda\") if torch.cuda.is_available() else torch.device(\"cpu\")"
      ]
    },
    {
      "cell_type": "code",
      "execution_count": 7,
      "metadata": {
        "id": "pE7eGTnulSBA",
        "outputId": "c4f7dc68-9398-4ea8-b504-db773ff97c01",
        "colab": {
          "base_uri": "https://localhost:8080/"
        }
      },
      "outputs": [
        {
          "output_type": "stream",
          "name": "stdout",
          "text": [
            "Downloading http://yann.lecun.com/exdb/mnist/train-images-idx3-ubyte.gz\n",
            "Downloading http://yann.lecun.com/exdb/mnist/train-images-idx3-ubyte.gz to /tmp/data/mnist/MNIST/raw/train-images-idx3-ubyte.gz\n"
          ]
        },
        {
          "output_type": "stream",
          "name": "stderr",
          "text": [
            "100%|██████████| 9912422/9912422 [00:00<00:00, 108941889.69it/s]\n"
          ]
        },
        {
          "output_type": "stream",
          "name": "stdout",
          "text": [
            "Extracting /tmp/data/mnist/MNIST/raw/train-images-idx3-ubyte.gz to /tmp/data/mnist/MNIST/raw\n",
            "\n",
            "Downloading http://yann.lecun.com/exdb/mnist/train-labels-idx1-ubyte.gz\n",
            "Downloading http://yann.lecun.com/exdb/mnist/train-labels-idx1-ubyte.gz to /tmp/data/mnist/MNIST/raw/train-labels-idx1-ubyte.gz\n"
          ]
        },
        {
          "output_type": "stream",
          "name": "stderr",
          "text": [
            "100%|██████████| 28881/28881 [00:00<00:00, 98006224.78it/s]\n"
          ]
        },
        {
          "output_type": "stream",
          "name": "stdout",
          "text": [
            "Extracting /tmp/data/mnist/MNIST/raw/train-labels-idx1-ubyte.gz to /tmp/data/mnist/MNIST/raw\n",
            "\n",
            "Downloading http://yann.lecun.com/exdb/mnist/t10k-images-idx3-ubyte.gz\n",
            "Downloading http://yann.lecun.com/exdb/mnist/t10k-images-idx3-ubyte.gz to /tmp/data/mnist/MNIST/raw/t10k-images-idx3-ubyte.gz\n"
          ]
        },
        {
          "output_type": "stream",
          "name": "stderr",
          "text": [
            "100%|██████████| 1648877/1648877 [00:00<00:00, 25419622.95it/s]\n"
          ]
        },
        {
          "output_type": "stream",
          "name": "stdout",
          "text": [
            "Extracting /tmp/data/mnist/MNIST/raw/t10k-images-idx3-ubyte.gz to /tmp/data/mnist/MNIST/raw\n",
            "\n",
            "Downloading http://yann.lecun.com/exdb/mnist/t10k-labels-idx1-ubyte.gz\n",
            "Downloading http://yann.lecun.com/exdb/mnist/t10k-labels-idx1-ubyte.gz to /tmp/data/mnist/MNIST/raw/t10k-labels-idx1-ubyte.gz\n"
          ]
        },
        {
          "output_type": "stream",
          "name": "stderr",
          "text": [
            "100%|██████████| 4542/4542 [00:00<00:00, 19223540.63it/s]\n"
          ]
        },
        {
          "output_type": "stream",
          "name": "stdout",
          "text": [
            "Extracting /tmp/data/mnist/MNIST/raw/t10k-labels-idx1-ubyte.gz to /tmp/data/mnist/MNIST/raw\n",
            "\n"
          ]
        }
      ],
      "source": [
        "# Define a transform\n",
        "transform = transforms.Compose([\n",
        "            transforms.Resize((28, 28)),\n",
        "            transforms.Grayscale(),\n",
        "            transforms.ToTensor(),\n",
        "            transforms.Normalize((0,), (1,))])\n",
        "\n",
        "mnist_train = datasets.MNIST(data_path, train=True, download=True, transform=transform)\n",
        "mnist_test = datasets.MNIST(data_path, train=False, download=True, transform=transform)\n",
        "\n",
        "# Create DataLoaders\n",
        "train_loader = DataLoader(mnist_train, batch_size=batch_size, shuffle=True, drop_last=True)\n",
        "test_loader = DataLoader(mnist_test, batch_size=batch_size, shuffle=True, drop_last=True)"
      ]
    },
    {
      "cell_type": "markdown",
      "metadata": {
        "id": "6v8fBXrVlY3f"
      },
      "source": [
        "## 2.2 Define the Network\n",
        "\n",
        "The convolutional network architecture to be used is: 12C5-MP2-64C5-MP2-1024FC10\n",
        "\n",
        "- 12C5 is a 5$\\times$5 convolutional kernel with 12 filters\n",
        "- MP2 is a 2$\\times$2 max-pooling function\n",
        "- 1024FC10 is a fully-connected layer that maps 1,024 neurons to 10 outputs"
      ]
    },
    {
      "cell_type": "code",
      "execution_count": 8,
      "metadata": {
        "id": "foos_NlopDrb"
      },
      "outputs": [],
      "source": [
        "# neuron and simulation parameters\n",
        "spike_grad = surrogate.fast_sigmoid(slope=25)\n",
        "beta = 0.5\n",
        "num_steps = 50"
      ]
    },
    {
      "cell_type": "code",
      "execution_count": 9,
      "metadata": {
        "id": "X4sd8PDSlGZb"
      },
      "outputs": [],
      "source": [
        "# Define Network\n",
        "class Net(nn.Module):\n",
        "    def __init__(self):\n",
        "        super().__init__()\n",
        "\n",
        "        # Initialize layers\n",
        "        self.conv1 = nn.Conv2d(1, 12, 5)\n",
        "        self.lif1 = snn.Leaky(beta=beta, spike_grad=spike_grad)\n",
        "        self.conv2 = nn.Conv2d(12, 64, 5)\n",
        "        self.lif2 = snn.Leaky(beta=beta, spike_grad=spike_grad)\n",
        "        self.fc1 = nn.Linear(64*4*4, 10)\n",
        "        self.lif3 = snn.Leaky(beta=beta, spike_grad=spike_grad)\n",
        "\n",
        "    def forward(self, x):\n",
        "\n",
        "        # Initialize hidden states and outputs at t=0\n",
        "        mem1 = self.lif1.init_leaky()\n",
        "        mem2 = self.lif2.init_leaky()\n",
        "        mem3 = self.lif3.init_leaky()\n",
        "\n",
        "        cur1 = F.max_pool2d(self.conv1(x), 2)\n",
        "        spk1, mem1 = self.lif1(cur1, mem1)\n",
        "\n",
        "        cur2 = F.max_pool2d(self.conv2(spk1), 2)\n",
        "        spk2, mem2 = self.lif2(cur2, mem2)\n",
        "\n",
        "        cur3 = self.fc1(spk2.view(batch_size, -1))\n",
        "        spk3, mem3 = self.lif3(cur3, mem3)\n",
        "        return spk3, mem3"
      ]
    },
    {
      "cell_type": "markdown",
      "metadata": {
        "id": "HVn3aYAUnWqH"
      },
      "source": [
        "In the previous tutorial, the network was wrapped inside of a class, as shown above.\n",
        "With increasing network complexity, this adds a lot of boilerplate code that we might wish to avoid. Alternatively, the `nn.Sequential` method can be used instead.\n",
        "\n",
        "> Note: the following code-block simulates over one single time-step, and requires a separate for-loop over time."
      ]
    },
    {
      "cell_type": "code",
      "execution_count": 10,
      "metadata": {
        "id": "AoYBY89angvp"
      },
      "outputs": [],
      "source": [
        "#  Initialize Network\n",
        "net = nn.Sequential(nn.Conv2d(1, 12, 5),\n",
        "                    nn.MaxPool2d(2),\n",
        "                    snn.Leaky(beta=beta, spike_grad=spike_grad, init_hidden=True),\n",
        "                    nn.Conv2d(12, 64, 5),\n",
        "                    nn.MaxPool2d(2),\n",
        "                    snn.Leaky(beta=beta, spike_grad=spike_grad, init_hidden=True),\n",
        "                    nn.Flatten(),\n",
        "                    nn.Linear(64*4*4, 10),\n",
        "                    snn.Leaky(beta=beta, spike_grad=spike_grad, init_hidden=True, output=True)\n",
        "                    ).to(device)"
      ]
    },
    {
      "cell_type": "markdown",
      "metadata": {
        "id": "7Qgw1dRmpOlo"
      },
      "source": [
        "\n",
        "The `init_hidden` argument initializes the hidden states of the neuron (here, membrane potential). This takes place in the background as an instance variable.\n",
        "If `init_hidden` is activated, the membrane potential is not explicitly returned to the user, ensuring only the output spikes are sequentially passed through the layers wrapped in `nn.Sequential`.\n",
        "\n",
        "To train a model using the final layer's membrane potential, set the argument `output=True`.\n",
        "This enables the final layer to return both the spike and membrane potential response of the neuron."
      ]
    },
    {
      "cell_type": "markdown",
      "metadata": {
        "id": "A-bCSQmBstvd"
      },
      "source": [
        "## 2.3 Forward-Pass\n",
        "A forward pass across a simulation duration of `num_steps` looks like this:"
      ]
    },
    {
      "cell_type": "code",
      "execution_count": 11,
      "metadata": {
        "id": "IxPPMND-pMxE"
      },
      "outputs": [],
      "source": [
        "data, targets = next(iter(train_loader))\n",
        "data = data.to(device)\n",
        "targets = targets.to(device)\n",
        "\n",
        "for step in range(num_steps):\n",
        "    spk_out, mem_out = net(data)"
      ]
    },
    {
      "cell_type": "markdown",
      "metadata": {
        "id": "C3PxtCobuH_e"
      },
      "source": [
        "Wrap that in a function, recording the membrane potential and spike response over time:"
      ]
    },
    {
      "cell_type": "code",
      "execution_count": 12,
      "metadata": {
        "id": "ykdnD3tRuHcs"
      },
      "outputs": [],
      "source": [
        "def forward_pass(net, num_steps, data):\n",
        "  mem_rec = []\n",
        "  spk_rec = []\n",
        "  utils.reset(net)  # resets hidden states for all LIF neurons in net\n",
        "\n",
        "  for step in range(num_steps):\n",
        "      spk_out, mem_out = net(data)\n",
        "      spk_rec.append(spk_out)\n",
        "      mem_rec.append(mem_out)\n",
        "\n",
        "  return torch.stack(spk_rec), torch.stack(mem_rec)"
      ]
    },
    {
      "cell_type": "code",
      "execution_count": 13,
      "metadata": {
        "id": "unJrx3pXcXii"
      },
      "outputs": [],
      "source": [
        "spk_rec, mem_rec = forward_pass(net, num_steps, data)"
      ]
    },
    {
      "cell_type": "markdown",
      "metadata": {
        "id": "zqJdfllYbc16"
      },
      "source": [
        "# 3. Training Loop"
      ]
    },
    {
      "cell_type": "markdown",
      "metadata": {
        "id": "x-kquOWLY1Jo"
      },
      "source": [
        "## 3.1 Loss Using snn.Functional"
      ]
    },
    {
      "cell_type": "markdown",
      "metadata": {
        "id": "MlA56BgOYq1D"
      },
      "source": [
        "\n",
        "\n",
        "```\n",
        "# This is formatted as code\n",
        "```\n",
        "\n",
        "<mark>In the previous tutorial, the Cross Entropy Loss between the membrane potential of the output neurons and the target was used to train the network.\n",
        "This time, the total number of spikes from each neuron will be used to calculate the Cross Entropy instead. </mark>\n",
        "\n",
        "A variety of loss functions are included in the `snn.functional` module, which is analogous to `torch.nn.functional` in PyTorch.\n",
        "These implement a mix of cross entropy and mean square error losses, are applied to spikes and/or membrane potential, to train a rate or latency-coded network.\n",
        "\n",
        "The approach below applies the cross entropy loss to the output spike count in order train a rate-coded network:"
      ]
    },
    {
      "cell_type": "code",
      "execution_count": 14,
      "metadata": {
        "id": "UZ2BM6d6a11l"
      },
      "outputs": [],
      "source": [
        "# already imported snntorch.functional as SF\n",
        "loss_fn = SF.ce_rate_loss()"
      ]
    },
    {
      "cell_type": "markdown",
      "metadata": {
        "id": "q39HCIeOa4fC"
      },
      "source": [
        "The recordings of the spike are passed as the first argument to `loss_fn`, and the target neuron index as the second argument to generate a loss. [The documentation provides further information and exmaples.](https://snntorch.readthedocs.io/en/latest/snntorch.functional.html#snntorch.functional.ce_rate_loss)"
      ]
    },
    {
      "cell_type": "code",
      "execution_count": 15,
      "metadata": {
        "id": "xEVzMvujcjsE",
        "outputId": "6f96709f-f3cb-4ac6-9dd8-169d6ea284d1",
        "colab": {
          "base_uri": "https://localhost:8080/"
        }
      },
      "outputs": [
        {
          "output_type": "stream",
          "name": "stdout",
          "text": [
            "The loss from an untrained network is 2.303\n"
          ]
        }
      ],
      "source": [
        "loss_val = loss_fn(spk_rec, targets)\n",
        "\n",
        "print(f\"The loss from an untrained network is {loss_val.item():.3f}\")"
      ]
    },
    {
      "cell_type": "markdown",
      "metadata": {
        "id": "HS_zeb5mbqjw"
      },
      "source": [
        "## 3.2 Accuracy Using snn.Functional\n",
        "The `SF.accuracy_rate()` function works similarly, in that the predicted output spikes and actual targets are supplied as arguments. `accuracy_rate` assumes a rate code is used to interpret the output by checking if the index of the neuron with the highest spike count matches the target index."
      ]
    },
    {
      "cell_type": "code",
      "execution_count": 16,
      "metadata": {
        "id": "yq7_rly0c9b4",
        "outputId": "aaca5af2-d45f-4e58-e309-c2028583858b",
        "colab": {
          "base_uri": "https://localhost:8080/"
        }
      },
      "outputs": [
        {
          "output_type": "stream",
          "name": "stdout",
          "text": [
            "The accuracy of a single batch using an untrained network is 7.031%\n"
          ]
        }
      ],
      "source": [
        "acc = SF.accuracy_rate(spk_rec, targets)\n",
        "\n",
        "print(f\"The accuracy of a single batch using an untrained network is {acc*100:.3f}%\")"
      ]
    },
    {
      "cell_type": "markdown",
      "metadata": {
        "id": "r4Z6bnqCdL50"
      },
      "source": [
        "As the above function only returns the accuracy of a single batch of data, the following function returns the accuracy on the entire DataLoader object:"
      ]
    },
    {
      "cell_type": "code",
      "execution_count": 17,
      "metadata": {
        "id": "IqxDKFvrdXuF"
      },
      "outputs": [],
      "source": [
        "def batch_accuracy(train_loader, net, num_steps):\n",
        "  with torch.no_grad():\n",
        "    total = 0\n",
        "    acc = 0\n",
        "    net.eval()\n",
        "\n",
        "    train_loader = iter(train_loader)\n",
        "    for data, targets in train_loader:\n",
        "      data = data.to(device)\n",
        "      targets = targets.to(device)\n",
        "      spk_rec, _ = forward_pass(net, num_steps, data)\n",
        "\n",
        "      acc += SF.accuracy_rate(spk_rec, targets) * spk_rec.size(1)\n",
        "      total += spk_rec.size(1)\n",
        "\n",
        "  return acc/total"
      ]
    },
    {
      "cell_type": "code",
      "execution_count": 18,
      "metadata": {
        "id": "_u43hKAvefWM",
        "outputId": "bd1b9aba-f198-4185-851c-92fd0c839473",
        "colab": {
          "base_uri": "https://localhost:8080/"
        }
      },
      "outputs": [
        {
          "output_type": "stream",
          "name": "stdout",
          "text": [
            "The total accuracy on the test set is: 9.82%\n"
          ]
        }
      ],
      "source": [
        "test_acc = batch_accuracy(test_loader, net, num_steps)\n",
        "\n",
        "print(f\"The total accuracy on the test set is: {test_acc * 100:.2f}%\")"
      ]
    },
    {
      "cell_type": "markdown",
      "metadata": {
        "id": "F1pzWXlsYoIu"
      },
      "source": [
        "## 3.3 Training Loop"
      ]
    },
    {
      "cell_type": "markdown",
      "metadata": {
        "id": "KAUDYl3gf0G-"
      },
      "source": [
        "The following training loop is qualitatively similar to the previous tutorial."
      ]
    },
    {
      "cell_type": "code",
      "execution_count": 19,
      "metadata": {
        "id": "y_VQ9es-gSO3",
        "outputId": "28b3a260-3b17-4e02-c13d-4fab4a8969d2",
        "colab": {
          "base_uri": "https://localhost:8080/"
        }
      },
      "outputs": [
        {
          "output_type": "stream",
          "name": "stdout",
          "text": [
            "Iteration 0, Test Acc: 9.80%\n",
            "\n",
            "Iteration 50, Test Acc: 92.32%\n",
            "\n",
            "Iteration 100, Test Acc: 94.96%\n",
            "\n",
            "Iteration 150, Test Acc: 96.61%\n",
            "\n",
            "Iteration 200, Test Acc: 97.25%\n",
            "\n",
            "Iteration 250, Test Acc: 96.45%\n",
            "\n",
            "Iteration 300, Test Acc: 97.92%\n",
            "\n",
            "Iteration 350, Test Acc: 97.80%\n",
            "\n",
            "Iteration 400, Test Acc: 97.32%\n",
            "\n",
            "Iteration 450, Test Acc: 97.27%\n",
            "\n"
          ]
        }
      ],
      "source": [
        "optimizer = torch.optim.Adam(net.parameters(), lr=1e-2, betas=(0.9, 0.999))\n",
        "num_epochs = 1\n",
        "loss_hist = []\n",
        "test_acc_hist = []\n",
        "counter = 0\n",
        "\n",
        "# Outer training loop\n",
        "for epoch in range(num_epochs):\n",
        "\n",
        "    # Training loop\n",
        "    for data, targets in iter(train_loader):\n",
        "        data = data.to(device)\n",
        "        targets = targets.to(device)\n",
        "\n",
        "        # forward pass\n",
        "        net.train()\n",
        "        spk_rec, _ = forward_pass(net, num_steps, data)\n",
        "\n",
        "        # initialize the loss & sum over time\n",
        "        loss_val = loss_fn(spk_rec, targets)\n",
        "\n",
        "        # Gradient calculation + weight update\n",
        "        optimizer.zero_grad()\n",
        "        loss_val.backward()\n",
        "        optimizer.step()\n",
        "\n",
        "        # Store loss history for future plotting\n",
        "        loss_hist.append(loss_val.item())\n",
        "\n",
        "        # Test set\n",
        "        if counter % 50 == 0:\n",
        "          with torch.no_grad():\n",
        "              net.eval()\n",
        "\n",
        "              # Test set forward pass\n",
        "              test_acc = batch_accuracy(test_loader, net, num_steps)\n",
        "              print(f\"Iteration {counter}, Test Acc: {test_acc * 100:.2f}%\\n\")\n",
        "              test_acc_hist.append(test_acc.item())\n",
        "\n",
        "        counter += 1"
      ]
    },
    {
      "cell_type": "markdown",
      "metadata": {
        "id": "TjRPDFWxj2eS"
      },
      "source": [
        "Despite having selected some fairly generic values and architectures, the test set accuracy should be fairly competitive given the brief training run!"
      ]
    },
    {
      "cell_type": "markdown",
      "metadata": {
        "collapsed": false,
        "id": "HxU7P7xFpko3",
        "pycharm": {
          "name": "#%% md\n"
        }
      },
      "source": [
        "# 4. Results\n",
        "## 4.1 Plot Test Accuracy"
      ]
    },
    {
      "cell_type": "code",
      "execution_count": 20,
      "metadata": {
        "id": "_Pk_EScnpkpj",
        "pycharm": {
          "name": "#%%\n"
        },
        "outputId": "29e99948-3288-4739-f4b2-508a396d942b",
        "colab": {
          "base_uri": "https://localhost:8080/",
          "height": 472
        }
      },
      "outputs": [
        {
          "output_type": "display_data",
          "data": {
            "text/plain": [
              "<Figure size 640x480 with 1 Axes>"
            ],
            "image/png": "[encoded data removed]"
          },
          "metadata": {}
        }
      ],
      "source": [
        "# Plot Loss\n",
        "fig = plt.figure(facecolor=\"w\")\n",
        "plt.plot(test_acc_hist)\n",
        "plt.title(\"Test Set Accuracy\")\n",
        "plt.xlabel(\"Epoch\")\n",
        "plt.ylabel(\"Accuracy\")\n",
        "plt.show()"
      ]
    },
    {
      "cell_type": "markdown",
      "metadata": {
        "id": "nYFamUJLkVY3"
      },
      "source": [
        "## 4.2 Spike Counter"
      ]
    },
    {
      "cell_type": "markdown",
      "metadata": {
        "id": "MDE3ms9ulo-t"
      },
      "source": [
        "Run a forward pass on a batch of data to obtain spike and membrane readings."
      ]
    },
    {
      "cell_type": "code",
      "execution_count": 21,
      "metadata": {
        "id": "dqIjaw1kk4-6"
      },
      "outputs": [],
      "source": [
        "spk_rec, mem_rec = forward_pass(net, num_steps, data)"
      ]
    },
    {
      "cell_type": "markdown",
      "metadata": {
        "id": "n4QiJx2HlkMH"
      },
      "source": [
        "Changing `idx` allows you to index into various samples from the simulated minibatch. Use `splt.spike_count` to explore the spiking behaviour of a few different samples!\n",
        "\n",
        "> Note: if you are running the notebook locally on your desktop, please uncomment the line below and modify the path to your ffmpeg.exe\n",
        "\n"
      ]
    },
    {
      "cell_type": "code",
      "execution_count": 24,
      "metadata": {
        "id": "4HcwxfC6kfy0",
        "outputId": "c67be147-15fa-4ca8-e3dc-075889c1fac9",
        "colab": {
          "base_uri": "https://localhost:8080/",
          "height": 1000
        }
      },
      "outputs": [
        {
          "output_type": "stream",
          "name": "stdout",
          "text": [
            "The target label is: 6\n"
          ]
        },
        {
          "output_type": "execute_result",
          "data": {
            "text/plain": [
              "<IPython.core.display.HTML object>"
            ],
            "text/html": [
              "<video width=\"1200\" height=\"700\" controls autoplay loop>\n",
              "  <source type=\"video/mp4\" src=\"data:video/mp4;base64,AAAAIGZ0eXBNNFYgAAACAE00ViBpc29taXNvMmF2YzEAAAAIZnJlZQAAi8RtZGF0AAACrgYF//+q\n",
              "3EXpvebZSLeWLNgg2SPu73gyNjQgLSBjb3JlIDE2MyByMzA2MCA1ZGI2YWE2IC0gSC4yNjQvTVBF\n",
              "Ry00IEFWQyBjb2RlYyAtIENvcHlsZWZ0IDIwMDMtMjAyMSAtIGh0dHA6Ly93d3cudmlkZW9sYW4u\n",
              "b3JnL3gyNjQuaHRtbCAtIG9wdGlvbnM6IGNhYmFjPTEgcmVmPTMgZGVibG9jaz0xOjA6MCBhbmFs\n",
              "eXNlPTB4MzoweDExMyBtZT1oZXggc3VibWU9NyBwc3k9MSBwc3lfcmQ9MS4wMDowLjAwIG1peGVk\n",
              "X3JlZj0xIG1lX3JhbmdlPTE2IGNocm9tYV9tZT0xIHRyZWxsaXM9MSA4eDhkY3Q9MSBjcW09MCBk\n",
              "ZWFkem9uZT0yMSwxMSBmYXN0X3Bza2lwPTEgY2hyb21hX3FwX29mZnNldD0tMiB0aHJlYWRzPTMg\n",
              "bG9va2FoZWFkX3RocmVhZHM9MSBzbGljZWRfdGhyZWFkcz0wIG5yPTAgZGVjaW1hdGU9MSBpbnRl\n",
              "cmxhY2VkPTAgYmx1cmF5X2NvbXBhdD0wIGNvbnN0cmFpbmVkX2ludHJhPTAgYmZyYW1lcz0zIGJf\n",
              "cHlyYW1pZD0yIGJfYWRhcHQ9MSBiX2JpYXM9MCBkaXJlY3Q9MSB3ZWlnaHRiPTEgb3Blbl9nb3A9\n",
              "MCB3ZWlnaHRwPTIga2V5aW50PTI1MCBrZXlpbnRfbWluPTI1IHNjZW5lY3V0PTQwIGludHJhX3Jl\n",
              "ZnJlc2g9MCByY19sb29rYWhlYWQ9NDAgcmM9Y3JmIG1idHJlZT0xIGNyZj0yMy4wIHFjb21wPTAu\n",
              "NjAgcXBtaW49MCBxcG1heD02OSBxcHN0ZXA9NCBpcF9yYXRpbz0xLjQwIGFxPTE6MS4wMACAAAAQ\n",
              "nGWIhAAv//72rvzLK0cLlS4dWXuzUfLoSXL9iDB9aAAAAwAAAwAAAwAAAwGMR8kHRr9MkrqAAAAD\n",
              "AACUgAEnAAUMABvU/BWmewvKgC/3lAS9CL7zJ3w4hADwIto2wlvF5L+QrV3HMs+rYkf2zg+DduqH\n",
              "Vcii9brptYFlJbo/GXermZv7UHLr2nUX/KSWxvQtRwAB/1+C+YUfhLXmzDKr+eF83t7QXUAh/5/c\n",
              "2yZ9dZRKAcSTuCKCz6BDml1FMZgdizCN3zTRfguE9qHPyXz/KUTFszRmQ8BFrDbh8dcDWhn+59qZ\n",
              "PoRKczIw9ANmQFZzdhznxfueCO20E3wAB1qL1lPUJLpfc8WMV9jRqDfCh+W632YQko1aGBX29w3k\n",
              "te2xjTOhkkp1qqqqn0P8a6gDZZ3/RAAApPkgBbjQfQGFbBKizwdadjJg/rEEqe++H5aDIHNOD3Vn\n",
              "pUhhgNCn+DAF/XJPkeBDgAA6z+huD8SW3yitf9v6kSjo+8OwXx9aHIMS1EJJvcg0rjdyQHBD6LK6\n",
              "EKJXFb+ZmshKWhw3KBMnVH3BB+nnzWWTCOqIOzO/CzVQJ6vmpix5PeiLzjdLvo9TYLoqUiLJmqaI\n",
              "2eRyEfm76JjjP0HkrDdQoYvjS6eT1MAAmV8DqR/SqkWbkAADsRAAmC5zSwTYno2MoiQLZ5Wr+M/N\n",
              "ypt2l3+PnI5GF17oIBHnL8Q/Dseg6jj4xBfP6i99dYyMWM4tFkH6GttXXZfBEWmxY/Rk/fXh2Nb2\n",
              "I0RSEvCoO9l7yNVx5pHrDjXQa7Gts9snnScgAAUr9WaLavLQqSMfnre7zH2bqT6oAAGqli6laH1s\n",
              "5gAAYmb21lOJofLjsUpKLI2nXgho/Y6LgGFUvAsLokwN6A6lR8cH7FpsoYz3AdNvK3obMSqoaQvs\n",
              "jxHEOmXfe75wXn6LcK3l+LQAAL4N1lC8SW2gqTYDXEBJK9j7QRJ9lCSZGhGHo7xHuqXzl7F28LZu\n",
              "MszFCuKDej9um926SV0tI5xLvBiDB7yVutt4j5onwak90FEN1lVBlaFraAACE+nncflTf/CjwAAW\n",
              "9wEtjy4/0usaOYuAACH2wB7njRs2gvYJOO4eOUtQgVBPJkYJcQxlrI/mgwOc6UTbOlQvJWYJjlSt\n",
              "Z2aAHM+WQP9owomIKmy4YIx75RA6BfG5QUXVIZkUDjZfaxP8KwNxmtYTsIW6bmruj2pyhmaThZpm\n",
              "1edhnnIjSGZyfVfiRn/w6dnT7w6+ew/nvp+0gRvWTRn/0hTv/k1gOykuuYtuT2ZG/Z8ubZEX/u5u\n",
              "es4SB/wjKYj2bKa60zv8623VpzDdhTFWaD4q6liUA7pUWJD9NybnbgBN5nMwcScYYr4LOjl9OXyK\n",
              "pr7iosHnX6rokraCaedFvLGAAEJb0uT6OTrefwLTPaXDXHzR5JajtRrXUc2eyHmwCUBMtiwNK6eb\n",
              "KZLTSwL/Nu/SWLwG/vzUAIL4dd/7btZh27pEuv0MR2S3WHn8OEeOV1w+7bZSwKAWJiRc4+fYeMYE\n",
              "5mA5jVXk8A7cHPkByZPEmbpbZZP1NDxZE5xqd2qV5D2YgFUa0bsxhQaAAATdf330VX+XBiO27mIR\n",
              "F8h0vz4SIzc+4sAy5EgyjlPd9/uLalrIq2rHh88/Z/EB+F+1J6C+SuqBExWp+J6aYVzRS4zeGpQh\n",
              "jsv2Vi70uY9v+ISBO+3B2sC8EwVbz9494hb2C8rClY232H7hT5X4oG5cc4MfFk32BV2gWAFAW0Ht\n",
              "/OQkRSeOQb/4AAv0JUuFvBHuagp/7/AyBh+oAKPBFrrdX/uVlossXkrH8V13vEHh2tUCgmd2D3dJ\n",
              "0RWxwmhEXuyDa6qoZAbKcRPivYomNY9+2SQ5Vauyzg+KSEfzZNsLLee510lXpCZePxlbDCcAubIm\n",
              "jyBmUfYKN5FEVYMfd3NvkhTKltdFusp5QyXAZ+9haMO9mv8kVuUGCNSSf5l+s6Jr2YdCMgqV9kNc\n",
              "iJLsxwFMnJCPHcVjpr+lb4vxaT+MP0ZPQODk/qdxJkde6aqnzi1+4AGygAkL7QfRN1jRVYGMHom3\n",
              "hBygaTmvll34pay1nuA8An/MiLrRyzv9URd/4wbRj/DHfk0XXOEkSU+gQS6m2iA8RRm+H4F4yG2p\n",
              "8djdEDH/JbhS1NVykQip5AujFeMQetYQzcgAMXDRAADWX8uDyAjLfbclkTksUmglLxian0y8Htjw\n",
              "iBBSbwqAmonb7T68FMaD0AroADeE2hrSaWY17BmvXG8r3J2MvCMU+wSmOYR569o8K9x+D7vZ+Vup\n",
              "kCZNEd3Dhkt9n7ehf6eYp7ZJG76HOhoOxoJnmuH0/CYncLxz2r0+Q32RkfMCZ7eQOhHL8KNo9jmN\n",
              "4cRp1vxwANxtDAABoOAA7ORY7nNdzIWQEPEvsHI/k8wYug26RzWc2mO6nZpxTrWvf0dUODQ+h5gU\n",
              "qalx15bYZ6ogy2Tl0QP4qYuzQgERiA0OxKjy7Wx6RVTZU0vI2c+Dul/wXBc9nyeVh1djDbBwkqab\n",
              "hq2F5lOn03CCAAtqtmFeXtm6TM7CqDSbSHN4UQWXDT7fK+cb2ucspAO0uEKgqp2SX14NfvWN63fJ\n",
              "6AAGCOH8xe20AABXDsmEB7HHzlqmnhOr0o9rO/NSzwqm4zSyuPtDGbmAqudd5KFpTJIYmD5MNV5A\n",
              "zYgABz883xUAl4eYu09laUeMo9PwIgnH2OGZFl+1AoLwy2w+iY4jjLQwsBVkVC1LbXmtl42GYiSs\n",
              "UdXF06CAABPysGPUgrseAAB9eAA6hLUMlb8ZYKi+E74XrJ1kk9oA2WE3EZP6QjqSzWZLWXktLkji\n",
              "pvgrVhSIbQvrpV1ZSGKy+UtkhwS28K1eBx5BNt8CP4pYY9hyD+pCQgAA4w3bh0i/I7tXfvxt/C0X\n",
              "KYHmphAbQEJel0+SKjvD9ypVlQbOLHfmEKSdY3c5eVv0B0xAADkcs+CPC7RCJrDnjDieZGharwN0\n",
              "97KgyjlFOCnJPwiHPilBp1sxPeC749aah0TcweK9rYTBwmM3QLcCfEy/AADLxOA2wpw4CwUFIAV8\n",
              "tSYACXG0tfVQGv1STOgvTr5iGjbvLGRupXapdD7Q7PaoEFHrM43XiZ+PhapFeApSUhFWxROvZ3X9\n",
              "Trf8V51Jl92nDDd7qqlpINtIN7j6kYOmWJP4neFBS/ePz6g0kWTks6y3RBNt4g+jebUrMt0/6gfV\n",
              "zX6o7RZScMd9Qs/OCXXHWnsdTTYFppvq2FGYBDrLIe8CMiOn6XmrE2lWtWZCYNBuRR3BLGOt/KpJ\n",
              "1O0qlcMCHtnMti85EMJHPD8FAYaCo/RhoknkphX7Lol4/nXd6j77nJQPIhO4mKABXdG5CX6nhn0h\n",
              "c4eQXWygvyzapTBJD1/R2JDNwi27r5XsdwWizVpKW1d13sal2yINqCSJMxZeCzB63mvP3P2vVp/+\n",
              "QP58iTFzGQKKg/wk2XUsUxREfJeYASsaii8GVQfe/gHPpBsjTpRH2G/cHTnAGXDJCfglDNsWCAvZ\n",
              "DP34hGNuwtMLLK7EQybCjG4lbQFuDLjDv3hIMuv3vYxkMmWNHGETZ/+Mqx9sgCcYST+zZCDUAPWl\n",
              "RpUBj2pcWL+Qad6Mo3JIZDG7GyE8ayac01lTGJvwea5YwwUmzWi72lu6s7DlHOyqVsO+zsakgF8w\n",
              "hwJ4ZGxnzMG3xQxpiy3oGVImJbqHVdKn0QvsQeswIe6ZzG/p0kcSFpSp5x7TdRDBNhPu7n+UXAdn\n",
              "Xiyte/Y7iU61a/OJXe37GOmlvDlUkP/BsJN5TP6dvwqpf9tZbocSQKsy3/J70+r/yI6Q+kvnLMja\n",
              "7wg221x/Wai77P15Vq9/aw/V+twwnreBj1sNbWU3s0KObVqMYgtDAa2p+8P/wA1qnjtj6v4Qcu+q\n",
              "StXjx5Ri5Za2znF6UYdVxwewuuhW1sqZrWX+/QfqK37jfC3PAvnM/bq0iuCIyeGcy0Vy9cb6qy63\n",
              "eSbnVMdkncoxL1OJ4O92Y8KxwLysUGAKFL1UyncR+/lMVEOYBFlHDgcVewR9YJd1Bozy3T8gj2lp\n",
              "P7zZDXJGXsgbOVId88yK7zOblYVIqn3mQWI9daXCQ+0pkym2DFGfgOdMIwDsn3ADBz0Kpyc8i5Xg\n",
              "6qZtMSUzGoIhT1DrIxPAuV2BRcQoNtkpzlfDRv8aIZ2p6cR3UhhLQ+IE9pnZlc40lEJN+57OxmMS\n",
              "2Yvb4vYMzx1UHCSx5JZIO3kPpz3ixoI/SqU/eaugOopWIPl6FxfmHUwXxrW4Hpk6CxfQddL8B9Ss\n",
              "wfJ302kosQp3MdHaFPotYrWDp0plYPXls5E7Oku3BfqKh/6vS74UW2HsjTf2a5A/rEfFW5wg/3K9\n",
              "elmelDIOzYbNXYRcv2+FRModeyylwK/nuGylC8xC1MXZlKKx6ZubS1S0IxbwF7omyTYRE79pM5Xo\n",
              "vuutazBBnrzMIQV1uktuBjPZkmwmmJSKuJvJzwDIVbjQFFAY93QlNVRy3jHGCerfv5UsammSEoSM\n",
              "pvwOZnJLl/g6+J1UUVLAYNrDlojT0tyzML8UBnRGEME6QuAXif/jGIYfFC9QLyVgOavWFe74cuSi\n",
              "r1tzUtlHSbCVlIVtPyjeb2xHO+zhzmmldeYhUclRqoyavfFfNcAGFCKKaaIbH8Gm0+0On0rzFeCH\n",
              "mubHQTUm4WEkaP0SeAwMrGOVVCntlyOmRm/AsP/8sop3K+P4HPEWrTqDRnD/H1j4CDSpFsn6jgmY\n",
              "HTFiSrINVIrXhCDDm2bm9CcvyolNwDp7hCNPSZLhwVSir/hllkr6WlMVXKOt1OdOQWTfi8l4yXoD\n",
              "VlAFbd5ZC9c1tObFgE1uh1h8jMcKps6v2ohNNR64XWOxFMKSxlV259TaEMSZfyDeIg4rXdE3m6mD\n",
              "L55mMF1uFRFaZVoVlgal3soWnc+odvP+w54XhwfSC/VNKAS2kTulSWxkYf6Akbnys6M0NtpTIEOx\n",
              "WR1m8ElRxiPVynZFFAMjdu57Bp5CmzWS3tTakX7CopqQWlsO/ojAVhJ2fpmQomd+vGUNssbYXoME\n",
              "ZhW+Oy43PrKEyOugsIbR/+liILx7JFxLORSDKkCbJJEsqBdXcNjV193RfB/vrtEmqNMTRqGFR5Mp\n",
              "Ayxy7POvblq1xl1bBjLupLxGzhOPT+WkbdM2tKwOy0ze4Cs4eKhAAZLTrCQZgAAmlS3sv01fl6ip\n",
              "KiDBRa+e7ti/aiWhRTmmIUrYNr5Bsz/P3joBVG63auYoQsvzLnEhr/7ZT4AGuGV3Sr9axJlRFElx\n",
              "7B/VttyUenJHLCRurzMM4EJ1pYctqWReS9zCw0ioBWRmLSYQxiKmyg4gVEMzrCZn5eEqcvtOhDZQ\n",
              "XMUm8zyhdHV7OFDPRaRVpfzz36zDqbXjTWpWae6JvQvHdqX6WZQzmRiEUHAu4VpD430/PCWM3/c8\n",
              "z1nlYz8jQKoAkwN8PcYYHWtQ2zM6ewvXFSy4suUjgk9OJpo7jJ/071c7SwuDWW+ME9K09n1Ck65D\n",
              "+TN1hQGLpiD61JBhzoOOZC5rWJInBRG7CpJnFTz67g0mxNu7JV4Xp1MkoadSXOWq1v+9cXDwca0V\n",
              "n1xrda3vwN1XHJ/R6TNbJbP9SnfgVVnwgLCa+brszZvsv/a+RGAuxnmzZ280a7CstsPYphoYwoJa\n",
              "F13VmiEfLUbU1FvwLShqbEtQExgIck+l5Y8oD4kyAAADAVkAAALhQZohbEL//oywAABltafyEoYA\n",
              "AF9b4D/jxjZdpHL0OmHJkvj6wmTfbl1+KRqRJusQeoSJEhan01GbzddNN5w3kBvlemRkr6nuNFiv\n",
              "FEhvuWh9p/CBY7RCA2ebSINw25ACqAMvMOYrBEXwcMtSRXCGvIl6U0I2BSv0vj6AHRKB4usI+YxG\n",
              "ZyD2IoP0pZh8XV4cnL3gcC1CZcTFWRmnwZ4pTYFd8Jy4f7/tkCH7BCWU/zOABnFDjsuc44VNdk4B\n",
              "Nx8tTxu8jBIQOb4bd6OzZHNFy8HbNHOnj33CHn8H5WCQ7mYRl2erSkL4LT399sj9UbjcJBU/tMJ/\n",
              "7gsr6wEg988ITtpQjO7jQa4bppp+vn6XBri0W0Z6xLPXWy15siS0cbzMcvRncP9bxim4wDkwnkIR\n",
              "zuts3xvVEkjmtyl3hgqIuVHWe2GQ8MHAMYwC+zurN1JneywxE0w5y+ikX8YZaj88A7UTLNjLV+3Y\n",
              "kbj8H0YybBhlpZ5G3PWSk/VHaE0LndJzfi4LwF6uN4McpIbHkm9ax923WcsYSyJsICkSAVwKfQZs\n",
              "aEOE/KxX0rpUpTxW3Jz2oUxLzNr8jHzZ82o8J37OFup8fk6e9u+xrYcPpwWTIvnHb7M3vyN/AwVS\n",
              "m5qoopLdpa5viyoNtbKuEv0ciD1zFNVCKPq5bjZUTgBQSMb/hF1Yo3oQ4UniAgvYb2r92BBa4eGC\n",
              "MKqnVR2pSH0hLXmeYbJwxFltZmh8P8zZNbNtk4crTdDmNaNcKWnURTwWu13+/Islu5OdkKxCkfWy\n",
              "JLos6QAIjZjsigzbJpooJFnCEmFy4Hc387xVn/0FPzfVZ1jNCTn4Hn9HRcbn7YNT6ysQNB9ykBfJ\n",
              "xShHbIo09QLEJMqS55JsFsSYY//RNzJrS3KYUbLoSRu4SoHDNhxaXA6LR7Q2sZOLjfvSqwiqsvyY\n",
              "QbcgSjoxVOGxXle4HOmf3femlrZHhQCmbnfcim49JwBjcoAAAANNQZpCPCGTKYQv//6MsAAAZUUI\n",
              "11kAC+t76cMK9t/AaIfgITAdvmVtr1I9+O4OI4QKr6X05hfLR5M5ZQkBIQbKhofKDEDN9H+dxNmu\n",
              "G8D5fiT9i2kGuq1w1J5P4cr+AZfydramzC1Cry/IwLlxjHrH78UMCwgRnsB25nWIcJ+vJt7mRc5Y\n",
              "H8LIylHnfazoqKPbnCJq9cMe5QQqXn/1TKgqR3mPIKGmIBF2jeqxKlBWT8obt8hr3mKHg0zBdeQP\n",
              "yhaaHrEWNtSQmVYwx+7s49DEwdCVInCZvlw8nM4M88P4HykU3+PgGf/052RLw2mORKPnIVGPiWSB\n",
              "M28CRIqHFxA/ILG3Nbu8K3F8m/YwNdIPvTWO/Ag0NX0aPRurWTMfctmQfaa0WHLHIH3300+tpnzs\n",
              "dX7cR6WVnvyDvKEbXHzjRDVNWZyen3JciIgU9OVEefSfriil3gBMxF74TIMveUU5SM21X5RZ97n+\n",
              "DJoK2NPioXAm1JMr8u6pPaQhG6WOtmK7/xLaG1QEhVL1NfGg6wo51D/wQBcqlGWi4icyjDZGQDEJ\n",
              "PH4yk+gDm15+0knJ9AX4Wz1fuMqCQfaf2FRMRfTdEtkJukqT1k00PVEIXbN/DeVHnCRki1lb69Je\n",
              "6dEZKwdrwBRd6h99fWBWuFa6msVn7VMS8UiYRWTaAGtbAJlhucn7b7jzT9viV7xb49Swjg4VCI5a\n",
              "TDur+zN7QEr+C06xTOPL/I7jrhQH5MFxmi5qZm0Q2bt2FZzElK9lq1nR5Jds8gLQ/0veZROatWt0\n",
              "xImmoxCoHFgP7GBAzeF4cWJbIfgMFWdMKRjA3CbJEdwW+st3rSweKxZS5xx+HEfQ1E2NtoZrvGA0\n",
              "w7W6wUnxrJiumK2jE+VuZZwrJQirhwg7khEP+NHqad7pQ3TAwn0PPsQaS+gNVFueVQBI7qk9dnS3\n",
              "aYkyagarb9+hmIQ+3BGA+pKdqiWqB/wXRGYnsAGsD3Cl3ZmCZ3Y3E1CjZ6XgoA1CRWcMu353E2+h\n",
              "WpdWeWBtvv8Vx8KQnV3D3KbGnWYb1n9A3IMHwZVs84Pyk7XSkTBdp/3fG57qti4mon4Av4WGF/Js\n",
              "F1ueda39FLAJBLQ45VARGRhKcXz80brbzWxjWLUAAAJ5QZpjSeEPJlMCGf/+nhAAAGSRNFviAoOZ\n",
              "Rhp8jvzM8duGt0vtzqcjkBiQg4xN3kwqEEbe24xDCAWnHwco8a5VN+LfXDLpZ4qw2Fo2yDePIQH/\n",
              "tUT/+B+wfZBTPajYQ5HxAqGun+zy+QOng//tFrimNjB+KIBptwBCuGy5Kr/ndYi6d4/5K8zp14pc\n",
              "UdOy6PXMLn7S+Yaks/h2adPKcRW3GURnSq4l1GtGYddjKqj47P6W//qr+rxUCiE6x4UoRikbBgR4\n",
              "LNXb5O2lEuNLsIMMf2vsn/ycOWEGR8J7+jv1ISb2EijBDABczlqwuDkBvLZLJu8X5NAAJ1fyrydK\n",
              "6GMa7Y929XKwSJYZGPODpha5KE1CdaTDPjqX+FQhmRpw4mG762MqKvDaMrP3ZvfxxTxn/18/wPof\n",
              "rcLof7JhvxCF9GFdsSBHTT0xa+H5pI2qMwLbTiocQd2TiCAMhqOINBL1+x+FOXBM8oxpehU9cYs7\n",
              "JaxUP/+Pdh/dMp8+zalv7bKLo2xMpMq/82NEI5UWZZnScKeyPohy4Fn118L/iK6RRGhYws5oqBSq\n",
              "fkHtX4XOEDpZo4GeaCE/4JlcvJ/uDYtcoXrqNRoI4z/F0uUOztZ8aID7YbdmY+jhzZZwfOjMiDHp\n",
              "+44NaX+2CD7rVzeNC8vtKpohZUjsgRVf0Cf6dKazqOjHJAkife7JkJK733pl2iW48BQ51JV/2fXm\n",
              "Fsd7aNnjf2WtGRI+eEG+B3c9uZK7ZQueUJ8wt+LBRYcyn8aNac8lvpYuCSXe32UzmVjGSTSBN8XD\n",
              "r+Apqh+WOno/oeSjHh3BwvZH0NRAj8qZ8V5iGXRjvl/r5mZXHibgAAAA60GahUnhDyZTBRE8M//+\n",
              "nhAAAGH/2Wn6PitFRmVg0bcXoRt4mb21tTtwzUmqfp5dLnXbiJcjHhmeAa91P0gc7DURbvPSTq+t\n",
              "JhO0NhFe2RBjmlY3vMS1fEW0lcJsbdkYUiZCpxSFWoUeWHJP1Wro/SMZWz1/EK/Ogf0F5JQji2PG\n",
              "e8IbyfcIcARmlUkOqWj4I5oII3tHH8f6zOaoN6LzII+nuhGlyFoUacjLq8AHqXcgQm0aJJNv4kys\n",
              "fLmGnVNUdp+SS5JCLNfw/jfPfopcNO9dn9JZsRZ7wA05NKPHub6ikSms4lmKiuwACbkAAACQAZ6k\n",
              "akI/AAAgxU7AREaIWL8LwFiP4ovABp47sLAdlpejBaa+G6nP3F0QSdbdQAdxJ4OQPHeIzLNgVTMR\n",
              "bbrQw41VijHKCn3LFALOCCtV/cJoepSJ2c2A94b65/jAY2F+csQ+y2AAXJuSBgOsgTwGl6N4dGEk\n",
              "WnnraLaS9JuTnmxQYulEAFfWfmOMfbx8ADAhAAABEUGaqEnhDyZTAhn//p4QAABifZROtvxjUgYB\n",
              "FKw7sSEo5AU0q3fDBrAnhZv0yykiW1p6NiBqdvVHQ6s400v6Ka/tCtcP0ilaBpkO1Glbsh1xy/KI\n",
              "KLmFQWMk4v7yH+I32DgM3WocW5zcQyge17qKo9M4vy1WjxzDMV0XdXflOiGwabGHiVLWKAoNWY3L\n",
              "4XNQhBoAB5hjKqwm9fLceiKJ5gd9kkQIMLp7ge3gNg7l1hscMG7Kfgbxwtv93k7A9/zaV5RHOiBz\n",
              "aAx3wlqM2s9QrhqT2hXURTc4lHfztDMMdAza1lAWSMF3EwSombPNQLmi+ueq1ygs2d1lM1HC3wUh\n",
              "Cuca2d7XssH7uHuk2hSC7AABLwAAAUVBnsZFETwn/wAAG6nqTKt9wCZfn4Rm1aXUm7DUf8t/vBhx\n",
              "Dplxo1CXkctwJfDhfjkdYyGwove6QElRmiX2/e9YD+7dRChM/X5vlHLbnByEXijrkR4OFlNlzB5P\n",
              "RLDsgTJr/iRU8uE8FLtoVxGgw7aI6U/8iWLf1IJZ4H3U4NRkitN6Hga0dTy2TfeEXTbdrsxZeI+2\n",
              "0TOWQTy/1EzkxLbnN9Ecd7bZXNAmEi8ap0TNntp2O0ipmZf0i11DQADCWMnakJhPYZo7+jWHa/43\n",
              "agD0fMd+fFALZ+yrssJ6ke6/lV6k0q3WgouZSeoBQSRnpigRfBqZkZgKg0Zbfyyqj66L26zoZadC\n",
              "zTgIanN4E0RaCCwV3ODYpYIsRbd4+dtiMiZ5LEchX/JM/A03RFCLT6E0silpr4kXLUMRtc/o/vTi\n",
              "pKVwAApJAAAAawGe52pCPwAAHw/0+Lt9R1k7jsosqyVIxZm/+ffwyY5VaIKIYcSrL2Z/qO3T7FKq\n",
              "GYLDd08/xHgounGd6eclhkClD6qBdXZwuuxc4SMB8ZWRybsyp3FC5nGlxzeeSzyz/lfPs4XY7Vev\n",
              "XQl4AAAAu0Ga6kmoQWiZTBTwz/6eEAAAX/hOe4YeuRWAK3v1giaKOmXAVSVh6TeaZwJNVND30WD8\n",
              "tCbG5ubhY4zZex/cnmu35/soNe5tMwEuEGhwvYNE6s0ZbvCxjIKjyu6Mvc++QxmUvVuPnvBI5KGC\n",
              "PhGpzs9ipyc2BqifpMZXKnnvNBBF3rrjnk6byczzrMt9Hv/7Y7mwKj7kmh4mkhY9QB+a1WIaesxw\n",
              "paCTfooq4mwZ+ySmdMiw0ISU9dAAk4AAAADOAZ8JakI/AAAgxU1ofkvFOABqRDEwx2MPxGRAr5uX\n",
              "X/tn9bYf3aqh+/YbHTlLcJf43hgiPWZXwXVzIPhDdrAGNcvgXmzIfLbAW853O+6pLjZ2uC3L9llK\n",
              "4xQZIajNJhRz4GGVburhhkbmdpjg4p7NiERyg/PHwzvxzsMxg5y9X5hb9AIVGyenZp/3IIGnn/JF\n",
              "YUq4yv6Lqi+PIEELzl3oqkTFLhV3ElYbIek1+nrovsn7gfCxQ7GZYAysId1LpLCXl5loCo+gVfEi\n",
              "WZgALKEAAABsQZsOSeEKUmUwIZ/+nhAAAF15lzrXWo/uuWchaAssTzHcqEOwZtj/mMSTFvNKRDd0\n",
              "FM1Eug9+IYr0QBRgrSpRtIBek8NJ5v/qQsAQ4lMaWDRUwk2QtzLVXyw0qn6LkoHB06wnBoW5ET2Y\n",
              "iXOwAAABYEGfLEU0TCf/AAAbqemJd16gAJLmp+le6/lAStM6E3xusYY+kncGfKOX6FZ7C3g7Na+H\n",
              "8h5+Mx209qP2pGYqPyynFMmPd4iurTBz4QzPvnE9Dg9qp+QxmnRWbEuosi+O0zzc4XVRgLdTHhmu\n",
              "BNn3aSKZLCgnA6R7sKMOFlVlE38Ls20ALNC5brJTXdd6MoNLX639l7Eqw1hIFoeHsuyT+Gni9Hf/\n",
              "QtZMrA9IjJ2pvE0XVw1JmrNV7ajjvtoPBBde41O4vc0X2eoK1SkTOaGAdCWQaCYk3VoJPr08xM2a\n",
              "qwjWabb4mb4hyq2vhFuPsVChyVWabYyTGCgZfOrZuVMBw/J6xqjb4LX0GFUaCuSNcHCkORPSabAa\n",
              "JA+cXutq6uajtR0362Bdcm/+cAaRGcndxPzUEwW8SNu+8aKIDFkzLexVS/WJSO5mqzuSIRc/D6QJ\n",
              "ptnzNhu85T5Oki8Qml3gAkYAAAB7AZ9LdEI/AAAdqtNYxSpQtujvHs+dkCxKlJdmI2Nt2twzF4lH\n",
              "+qDV00gYkYdvWD+wGA0mD1gAB+60hSpbRor8nww5Xji/nl0n5UZpV7i6G+e1V1D0o5YHZ5QvAtlG\n",
              "+p+/wFYWY3BlouaM400eZmOk2BamXlmf8UkwAHLBAAAAVgGfTWpCPwAAHbb6kGBMT7F0ShybXS+D\n",
              "UaFI8AAmKviYRBLAwo+wq6YZ3ojktilvwzTDeTpAREhQUIPe6hinNYawzaDrkoXXbICQVlb27blG\n",
              "+a9gAIuBAAAAk0GbUkmoQWiZTAhn//6eEAAAWzmXObexp5UW0ANhx05t5bJe6B+rncp8aqPAphxi\n",
              "xXGToTytLx0IEUOFQkgyva6Alit3UTiNn7vHCuQ5Iuyjw27v5b1M6zGYN6sIMDaAoh85MZgXU84S\n",
              "w3ez18djx7sqtdmcdOTi00TLKtziN1YdCGQYzymkl8cflf2gpxZkmv6UUQAAAF1Bn3BFESwn/wAA\n",
              "G6vjP5YhfEZzK0zvMdG/sIfJPNU3+wKSLuGvSOaZhRbsFqutBAvIZOzJkLPJaa6M0Yt8gNEj0fLy\n",
              "1E8cx0jUS6wiQ+4/6FXhoLmzEIybOTgAI+AAAACJAZ+PdEI/AAAc+sdjEDXqQocv/qWv1QQFdv9R\n",
              "gB1NaxiRt8yjJ4Dj1yseVgI6X9UedHwQAE7eKhvTJOBZhQ4Wb862ALDnP0ZOjVJOt+zdMzo2bW1+\n",
              "1lrvZ4kbeWlKKVtmnOCu5ghh0I2uWs/EeVCyfAgE+U4rzmVHFc7CvbVXVmqTNFtOOMwAHVAAAABo\n",
              "AZ+RakI/AAAc/+NdKHazIxBH5el2+Ly9SF2C4MRIjUqq9ulvGtbuJ7aB88DyHajySYAExXR7pNrx\n",
              "b1Ipyu3hmmApzgSxnArUvJ+//Lq7d9mPKbLAWBAy0Y+YM5Q5Ek2iRE4B0bkAekEAAABuQZuWSahB\n",
              "bJlMCGf//p4QAABY+ZZIE9XbX0ipSz3A/8lzspM9bOIGCa8x/T4UHSqoxDpW6/QLFmo/NBw2wAdk\n",
              "gGvyoH+iz9SDlC+4TdTNDeh0Vmg7wpbfdFZAV6dKG28qzA4SGgvJPez8eT3m4+YAAABhQZ+0RRUs\n",
              "J/8AABur4tFKPW8/YAnDDvEI9O8xHu29xF+YFW8WlmpUuVSdvh9U/4wpqHNo8WcMBuAvhSgT5BOU\n",
              "dlOyACoO+G43ZhzMjK/phLhru0m71siJj93JaGAM3YAB/gAAAFYBn9N0Qj8AABxYeXzUSl0ukBwB\n",
              "g0AVLVbVrGzUQ9Gg++nssGYjkTEYQi6moyoKpZtH/EoD03zo9o8Km9L89TQtrSaezFYTCxGUXh0l\n",
              "xw6n1OL2cABgQQAAAH0Bn9VqQj8AABufbzk1345WFUdEGSQwR2B1Jl55ZLKL8QVSRdwIc2IUZyEp\n",
              "sAAlsFSwW/36uT4op7MOzMxk8HisJpnsaWeQdJlI2zOrJGj9kuLUc3EY1b7dpN1L2DmcGXdPJudI\n",
              "V4Jv8SPc1ptlY2ymZvRJ6BYBLCE+9gAMaAAAAE1Bm9pJqEFsmUwIZ//+nhAAAFa93pR5W5Loqvca\n",
              "dMQTkSpLahw/4Hunk2ap7SUFJHB1pN3eQraVXLOvrbRAUwNj+ETa9nrgbeA/FqPoIQAAAMNBn/hF\n",
              "FSwn/wAAG6vibt3nPWZfRZzYf35bQAkGAOan3I0l7PiOeXuApubkSewWDzMdimL1gzm0RqQ0gAh+\n",
              "BYJaEXT0F7I6y9+PRAko0JePUMr5ifb5Unf8drIrOkcMWLTR/yTE7hXuC/HrgLFDVm26Wnda160U\n",
              "7lskzjnYkypMEZYU5mgh34OkVB4eRbuHkLO/uH8A4nKGV07Ayf5KOVLyjr2Lr8S5h7grMZ15bJm+\n",
              "Hw0He6xD7O4Gw2ofXTUWbVGAA1MAAABjAZ4XdEI/AAAbqYCjxsh8JgZ8aHWxCy53JRT+1PZxtqj7\n",
              "mBFUpt7gAnVf/rc5ndPO5V8NFVofcMVFYX1xPzr/xyN/ilvs9vSeqaeoSbEwkuIjGV9tNf40gnjC\n",
              "WNYiRL2QADPgAAAAgQGeGWpCPwAAGwh2lYy9Q/b3z6Ll5RnGuPkohLcCe+sQUQRT9zvIeXFvN3y3\n",
              "84iFDBAAmqCKqA7a3NFPjLKP5s6O0HQ4bOsicBh5rPWOGb9LX01UX04dDevX6sTkGHXSAyX4Ub5c\n",
              "N2nikZnlN3UwmqnSayETJhXqB9z4EaJ3oACvgQAAAHRBmhtJqEFsmUwIZ//+nhAAAFR5lzvnjVaE\n",
              "C27sCgRldjG+wcOoDmrUBc+OlYwAuVJlQLT3OT+xePetY+KIX6Jkv4zAHASJZg7FhYLFAo6Czr+U\n",
              "A87aWFvuZehm+VHfhCWJvMCa3mKx/1OIk3eCX4/O99sOwAAAAIZBmj9J4QpSZTAhn/6eEAAAUjmX\n",
              "Otdaj99GWQpIOzEUXBaOOK3en8/qmSKXBuDCClET1eK8rQOk+UABIyx6kMK08gDTYjO96FvyYnkk\n",
              "i/NI05hWi9aw4AyLMLTe8v5VbehVTHrkKkLXuBDB/9PBn26KKAyZU/Yfi8AG3xrQLpH16zMBp5us\n",
              "wQAAAJJBnl1FNEwn/wAAG6noRperTaVFb+wBMbg/VBMjxpGVxTNY5LQPxFg9cgPKtYr3Vqy5lB+U\n",
              "zb+/IFCaBHYwAeyYNizDrbrpehEjad8YGbYFCrSB9HDuaoOYjpnn6Q4XAG8QDyxgrQgxkwnHrC0v\n",
              "Cce48lY5SVMqahBgwSPe5Kf0+maued1NbgjUR/D0hLbVQABxwQAAAJoBnnx0Qj8AABppdT2eqB8O\n",
              "0W5VW6k7UuSVWHDsQCHuo8d3/9oZmZRcFJUjGzpoABONUYDN3GajVdPCkS5sxJg/LEH++GlR5m4s\n",
              "U9lFWlxPX43vDu2SZ319QUpRS7Bii6cQOlESWXRZ9u8pjQ2mDqENtRulqh9lcnKbpGO7X0mXTz9p\n",
              "fFHXkUQeeWYJc00m7ZxF/DH6EnIQACpgAAAASgGefmpCPwAAGl9vCPqS1vCQYptPEd2EYq0a12Cw\n",
              "qsXy/6QhribWPzgn9jWdHhyQX1yTixDPfxtRvRRwBM3KAF/ORU/vJQCUAATsAAAAWEGaY0moQWiZ\n",
              "TAhn//6eEAAAT/mXOtdxD99GWQpIOzEUXBaOOK3en8/qmSKXBuDCClET1dz7qAMQd27KUGLfLDjz\n",
              "xu8TbxuBMmYkBzAKCF/OgBSnS8UVkhkAAAB1QZ6BRREsJ/8AABur4WpLEL4jPIXBPzHRwu4a4l9J\n",
              "yR6I8fRxBeNtErVQHsV1cP+AATLkTPrOmeDs9xEG5krp2TnxEv1r/uT6vHysmdJg2Bx77FGjGA1r\n",
              "Ib8e//SH2z5Umsfmu3YTseGlmv8kRchdzmEYAAQcAAAAnwGeoHRCPwAAGb3LYxA16kKHL/6lr9UE\n",
              "BXzb+DjqKRFupTwbwRUz5aytTIQrwSm8shS0AJwaF8nwJrbeanrndygmZ++BqKrkjk0kJfmgtI/y\n",
              "GSbpUVecSBYvVwrM7AHbZ3A2sYz+62gsgxGu3g1X5l1jzpcqVblIowHnSjYTRT4cq4PJt+X4UwAm\n",
              "s5EZxakpxzd6wn778BcGNQ36hAABNwAAAIkBnqJqQj8AABnCZV18AAWHv734t2JzXp5WM/ev6nE5\n",
              "wuaFNDtCob2kk23Ty48yZ+dL2wc6clGPdSaCZvkS9xoDPqu7Lf8m7WzbI1V+M0ORDzWAiMU2DzRR\n",
              "lIOdcFOhkBfgLZOSR1e25h75HexfWsf4esQ4vuELx5UaRsGUvmJjoDD8Wafr8gAyoAAAAJBBmqZJ\n",
              "qEFsmUwIZ//+nhAAAE26bzrWcj99GWQpIOzEUXBaOOK3en8/qmSKXBuDCClET1eRqdGWMKzwdW8V\n",
              "ABdPWDQq97MPF4m8/3gpzqrpyOFJpE/ZYdz9x+DyHMyM1pUSxPsKIAaM39WHkAsmUpWaCvVphdlX\n",
              "RF9+/Lpvmam6XABhavxbCLP0SaOESj7zxMEAAAC4QZ7ERRUsJ/8AABur4ShXVoZhCOG/8TVaCQ2l\n",
              "ftcFs/kRoY63TjnE5F1ej9IInekFZGFnuPPN/ex/8AAf9okPK7YKQkYKGoB2vhKVFDuB/zrMwOw6\n",
              "xgt/ztWgnCBGKGuVL6i9fzTyQBy2JEXYo5hLekfucKHmaqUSjf9gp8iq+2gs+8beb50fF2Im74mo\n",
              "9sUQzoMoV1gdaUDaZ2dHSNR61SflECBY8caCjNdMOijunnTJjqps4ABHwQAAAMYBnuVqQj8AABkW\n",
              "IWqxAyALCumWpkaNpU8zIg3k9GDkoE4YZVPDsegfpEVWCdnpyrxXwfdASN/FfwkbhJhkZU3iBQFG\n",
              "zsgSUlKdzONvzI4WAs6kx+m4n5HuGUWgDa8f62eey1qLdd62xapEfCREK08wMUZCBs4Jks/s5BO8\n",
              "rMP2AFfrZWZx4LWTyWMK7oU1pg/3/A3KvARu1mAu+OWFpd0e76hOH8jJZSILGKmWAhQTLnPivCa4\n",
              "4gqIhlbShgjNSLLIPiQAMWEAAADFQZrpSahBbJlMCGf//p4QAABLum9G3V+X2MQAW3vOo18NworC\n",
              "J7mjil9Dj8e0UkSuqizWJT6rJZC+WelJHRR5B1W5fDqoarXYRALb/jWyYMpE79k7BLDwihsqjR8H\n",
              "yNWUhS6qFDarZ8mWqJZ9yHXx2CTSGtiYFjFO4WK4CaA19fycCAS5sMkjYO6+Ql8ZKTgTBQ8yCoJr\n",
              "Gu7EhhRxXMQJ1JCt/FCc5nmaLMtFaRvFYaiAxCeF1es9nXPQ1if69/84YbPIBi0AAABhQZ8HRRUs\n",
              "J/8AABur4OXVTy/auHDf+JqtBIbWv1SC2xyI0NOOYQ3U5FiHlFGwngUFZGFl17wNfjOxLm2ckdOw\n",
              "fClFvP1UmoXv1JGRtT5wo7mFQA+pxyUEn7bIyKwYDoADjgAAAOgBnyhqQj8AABiIfGVYAVMk6gHl\n",
              "hGvULWu8836hjQ8HRg8v5nucySCHDzZrvJloggYtfPF7U1RX0Gda45+KiJDxkgjkqiZiUSsNmBVs\n",
              "AfTBquw/4sQUYk5S+pZj/R7GMi2+o6DvMUztyeYTJcbjRG5TrVVF04Bv018sBjMvvnua8LVfoFAA\n",
              "CXV6uxyE/YIoIh4Y+Qtr30N+rIc9miHPfmg3uwEAKCVL/08BHhaBDo886UtIcmN60nG8eIgESNOR\n",
              "KGQTdOS1tClF/TZ4rRkAZmqZeYRVpntM0snb/NsBEBMi9y1IDTg4AFTAAAAAwEGbK0moQWyZTBRM\n",
              "M//+nhAAAEm44vDiDQuAK1j/9/f/MWVL6uOVNN8+c8GalAHcSL/g1XjwouDMHvTW1kK+zqdaZ2q7\n",
              "vvQDrem/zr/V3u7r75MbimSTmuI77qlPLiURnamuldKWVmM27EaYxHADNzHpMJz4w4GmJ/ax7Lci\n",
              "1PXiZ/3DnqFRVzsafRUbdWAFfodiICihEeLE85p5AKiEv/cOAkv3/pxtwWJHKXMwacBF8fL4kPgz\n",
              "kUAWo8YvngB6QQAAAJsBn0pqQj8AACDFRagfpPdY4L5W1Y+dkVEczK7g0NiYX04Ukim64fofqgVY\n",
              "oG+KvkJ5LA2asMALmCbL/PqPvfJ/RbC9I8dZJvGrotwGo5+NKOO1MTwcd3Vf6Y4s41a/9lG+J59u\n",
              "aXKXfGpOYY4c8FHyy1xGEY5LfR+Hdf2y5HdeBMLRYO01+irqMJZeznhvjol5hjC/PhsgcABWwAAA\n",
              "AQtBm05J4QpSZTAhn/6eEAAASVUUradLinnHAFaT/4VRyglw2U0vqy2eQMf4rspmpZbTCP//yqT4\n",
              "V/8kLFRsJSscnCJrF/63Pi+0Mk8UMxj3/6kxkn2sHNU6Bc4wIHfBSoau25kzyh1Adjrh/v/ulWyj\n",
              "dBD3ZZVLX7MafdQkMNHMCSob0U/WLY6eU3I2+lWluscFLZzX+MIGagrk2Qhr5ycXt5huUVox6xyC\n",
              "ecqVJuCXYgiUUOUwY+oigf+9wJrjCWtH9OaH0rU+JhUEXVXYahBahy0Yifox484YLRhrIlSZPY5x\n",
              "EGosxeQRWqCqBfU4j0eOSn2FqAsssR+FZ5mvJIyS5VaAkCegJPsWBVQAAAC0QZ9sRTRMJ/8AABup\n",
              "56x+ZbpI5sVWAOEJCu9sz0BnmYEC+GJ2LS9oVGt/inCHRcwkx3q6qxYHxWZ2ZlDylAAlsxf/+4K3\n",
              "6W8XcZIm8kn7tZNkA3I5WHrtTCsLLS47sPFIxyBcWFfJPqR4dPsnvF2aE9o/UVWUn/PgObnvX1i2\n",
              "jUZhsoOObdXUEIiwaHZJFFZL4iZvjDZqS033utjloleUpMcYsVgMSuMGrPi3xYjSVvOwAE7BAAAA\n",
              "awGfjWpCPwAAF0s2ns9UD4dotyqt25XlPQoLgCiEBHC6s1Mpd2xzYc/i5X6AEiTsHT9DprbCHK13\n",
              "OHMb1l+3e8pqzQxI6lUkkI4GhhGkPiEsn/MbXErXLuY9GC26rBirV1p6wrP8OKBwAAj5AAAAhkGb\n",
              "kkmoQWiZTAhn//6eEAAAR757DT7v0/moZx/BIJOSZ9ePu2b3nuXksF6GGR8gNuIo+WhjoNdvng9B\n",
              "eWGDOqtYAMsdpWByj486P9ydIkGywEt2Nkhg6bjMpeT2ygQDv9m536FYLmJwrezoVMio/5alIYy/\n",
              "1wmfyYuSXrpBxgnTvJCOEuWBAAAAxEGfsEURLCf/AAAbq+B5bvLyMzVoTlP8NETFhHQUxJw0PYHD\n",
              "mWcgs5QyS6UvqTOwfeNTBiEJWwGxPNiGzAQvmfTV3yCPgBLZrcMbDCzgvl/pQKTQy4Ep2im2edhx\n",
              "pWWXrj4npFO5W+FP1AW2WnkJlqw0J9N4dnSp3r/9o7aVlcptz6jq2aIs3o/OOcJ6/5xuaveMFTCK\n",
              "Jil2xBDi5SMXG7zAl/A+Sc7VhzsUj/w9zP+V5wSK6PYfhz/1nvz0qV+Fk2AAZ8AAAABaAZ/PdEI/\n",
              "AAAXQItSR4SnfhWp6RJGoh3xulr91IHt4xOWlFJ37X1zfcAF0BMdKy5svEiiykyK/HFfIPXkb2Jm\n",
              "9r73HiKUBF5d0tv4Q1YIHSPkfX1TSPmEAAgYAAAAfAGf0WpCPwAAFrJEXpAC3tzkWbhieUJP+FDQ\n",
              "4iON/xjTGXOJRpY/8JIoMMfXWbLI8JPOPgbmQ+1qHMbD5wJQOK0GUON5uTc5cGr+UfovBed12NEz\n",
              "xC8mpyduqoPZ/10RClzUYT+sKi6GpiFC65CTqUt0ad6TlDnRYTAADKkAAACVQZvVSahBbJlMCGf/\n",
              "/p4QAABFvnsotHBdJSPuH8JJkUjq/eylVEje2l4WKdIlqAfTasP6RTNLBl6HU5CUIxjM3B7CAC6z\n",
              "+Ci96gf4nn8SUvkSB2j7JB5OQMiE01cxcU3VH3kcx6ZSU1u6avCMTgo5Lg+tE6r05MFR9TxR2eGZ\n",
              "MSO1KA/Gaohotlub0618UGlHOSeFdJAAAAB/QZ/zRRUsJ/8AABur4EVu5nN63GRYXB0ny+lH4Hvt\n",
              "aIR3myGX2/R8mdjpxYUT4pf0S/ZUScy3UvA0hLuYATlTVBdBqKH4WzC4S+vYWeIkVGJt+ASFL9UB\n",
              "2/TrtIX9RqfFkFqApr2INCQ8VhX+gTvcXpSUWNz2qyjtSJx3KAAMCAAAALUBnhRqQj8AABYiLzvr\n",
              "92yrroAU+MLq0EjlszM97M2DkPALqzIGMUCIFDdFDV1C/ACVHIMhevsR4g3VgrUWFdwCrRYS798N\n",
              "Kj4asw3ZEK3zMm/IICH5tKnwHOUQi3MShfe1YRYNEjlqqSHazabPQ+nrEaCPTjxwhaVxuiEr68F7\n",
              "d3Lw1/k3nHJfgbTWpgw+qUhg2Xad11J5eMjt2yisCy9DfmL9aU2n/iV4YOaOBcr6hAmsIAGfAAAA\n",
              "YEGaGUmoQWyZTAhn//6eEAAAQ757DT7v0/moZx/BIJOSZ9ePu2b3nuXksF6F/RxiA03JbWd9EdnL\n",
              "5S/u9Ct0tWn9FhXVgLl8S5vqBexgJBR6SVI0Lkj5/l14eB4KCcEowAAAAKFBnjdFFSwn/wAAG6vg\n",
              "FW7znrM3K1zYf35bQAkGEAV+dJLPYKONDct0s+DHJTrDx9LnSmL0jN9qQdkAE74kBYw3uBowPRHc\n",
              "VVIvIHxaB8RArET8FYLAifZ0hEEnOmWlAFdR4WcZmlVk/HbXbequ3MqZJ1nwOk9eulRHvDlYotng\n",
              "E0nTBqMv8h48Vvdi2p8rkVolvJoQ/fhjD/aXr0yPpgAD5wAAAGkBnlZ0Qj8AABYsQKPGyHwmBnxo\n",
              "dbFk15rJ4/t0F+30RqwBRItqAEbJSNdsUt9PmA70IzQaiE50vHHbDE2yihSF6o/9xn+ftc2MUb8s\n",
              "aqF0+54qSJoESCQDRIEM9tcjUUS1T5x/iMgADHkAAACqAZ5YakI/AAAVmzaVjL1D9vfPouXlGca4\n",
              "+d/Tj+b9+0WKW8H7+qXTKOPbvlv7jMXG5S0ALi3mD5eCpfvlqNp4g4dNyVB5XHN1sXqye/tIf+GV\n",
              "AAklimPWs3iTU7kqP1qrr/J9DuOuo3hlanJkjo8MRWTqFjBjSkOhTjMmLziDMjbMAgWMqc2wPejb\n",
              "7Jo9+nCVYOL7qXL894mSQRzwaa44IpGPAA/aok90AUkAAAB2QZpaSahBbJlMCGf//p4QAABBVQzP\n",
              "Gs8mY0KvBxCj4/FlfOJYdpeSeUyEW7GSUnH82ViAuWoIrfk0YqHy86+0pE0SaODKGD8lmia9A/wS\n",
              "qKJNjfXnjFfAyZrQVyuW1TO0gwJalVWACQbPFsTw/1OdbNpR9qD0gQAAAGtBmn5J4QpSZTAhn/6e\n",
              "EAAAP78GjT1c6SkuM/ACA6MBiA+93AJcflJJtCSg48OsGKg+r+NsQTy2tkn1QAZbL0hrq9EDBW7D\n",
              "qWDnDD7G21v94/tFH4Y/IV3yTJlvNrcfx7uC0Xu5dUwzy6aUwAAAAMRBnpxFNEwn/wAAG6nnJ13V\n",
              "pto79/YAmNwfqgo23ys7eUwscbVcGYaDUYEhrWxXYp0lJ43bKrwqfAoUIu/4ABKPTDLD6dDcZRzu\n",
              "585hP7nL6YR27eu8HN2Im6SOJ9sY7rbzKGCnB/UYvDQzEpb7uaViQNpyuTCNqUZiMNZ/9JZNp7hM\n",
              "ZuYFNbZAdH1VsP7CM/fxBxoDINHlT5n/TfcfhGhPsuRNHHs/P8xOmKAmNQuZY44iePLu2Db7avNb\n",
              "7L1lwybQABSRAAAAVwGeu3RCPwAAFQw1P4NQmW+3ZOr8FOuDBbFxWPxxNqgGp6HXFCn5MCW7TBsV\n",
              "1wUw+FsRbmWY7cwu+u+VEbwyijfpu4VBUdI6h0ooZirWzgoYDzr3EkACzwAAAJ8Bnr1qQj8AABUF\n",
              "JTjhf/moOrLvGV+6D2hpUBef6PIN38JHgGTrS+uQxu4Ch+GjVj60cZR+vg7QZjZk4MHpKznlvbah\n",
              "/PQN4oHKUofLGwnpStnwQ8TV8I8GxtIA4RurUmyt8OGrtByP6Rdu1eEV/oAWC4AsmQf8KshP9cGp\n",
              "0un9X7sw9vI3pKKQxa1TBdCjVQQD/M1auhvioa4w3xAAFtAAAABVQZqiSahBaJlMCGf//p4QAAA+\n",
              "CBGHlfqE45BfgM9RfEGOsqWwLS64tstISyH8k7J+kcBzUJQYyHY0E+vvVU3MXJbgjZnwN/83JcR2\n",
              "ZNULb9T2/57GMAAAANVBnsBFESwn/wAAG6vfrDM+r8W0kJQppkdkfwLT1hHZ0qKp6uisfxx41mMM\n",
              "aDqUhAASvMsgKT4aPEowm1FTCrcYF5BqNbCKqvR9Jsu8TuRrKGzu7J4vMj3NVy3Bf/gSfOr34anW\n",
              "JXGYeSnu7qgG1c9uthwx+xaB6VDek+JizXCge8LFDpYg1wKooJTc6XGR73Ntv+HxOzb1DG/6sDrL\n",
              "oNQCWLi3fzoFIN7Y6ijKUqdV5qS4u7SBjhHdmlyxHYM4Y5pKQfHxJeBb3CXoI8LaCyaoIXQAMKEA\n",
              "AACKAZ7/dEI/AAAUfECsDL1EKLdPe3eU6oIGXkiUEbEqn6OpOsb6RBP5qi+GQ4UT26c8Lhzo+CAA\n",
              "uW0hXwmScCzChwqPdnEGMYhqmuNUk637N0zOoGPNwuAQHfrfRN15eAH/RscFQGl6VtbnefB+xNc6\n",
              "sselCCdaXrzApr7LzVBeRzromwQZoJc2wANaAAAAiQGe4WpCPwAAFHU27XArJCMRGPjSx/3WZhUU\n",
              "c3A7cblzy64KZMKkkp7om+4F0hxZfqp0tACz0a1BNOQl8nbhXdUrJjWSc1lP8c2/jLky/WbIb4/6\n",
              "zpsNUptXv/kz/aOlVJTBHceRaDHKWFPXqTouOK8hP8npmXOCkiXX0NWLEXj29GXWqV6GgAUlAAAA\n",
              "gEGa5UmoQWyZTAhn//6eEAAAPKrA4RrPJmOQX4DPUXxBjrKlsC0uuLbLSEsh/JOyfpHAc1B/lrHk\n",
              "n+AQAmeOSvKISJz+u7+x7tVEDVbdIxA9WtMUb8MdNagUlZrIZYZ+Z8hHc87i2Dj8ynJryS/kBKIn\n",
              "a/Kso5O/WpGefksz7XHUAAAA6UGfA0UVLCf/AAAbq9+Nz5reAEmmKAB0I9p02O702ukwvgtCtd4H\n",
              "7oeM4s/Mm/l/mN6KsOaC7Or8TZxIAlKIDKm3JlPeyz9HsMbdqrPbUDsp6EijzvBgr5K1Ax9v/D4d\n",
              "8bQtZCcvJ38dj5D8m9c56nkLV201gSH5sXzIbzFOsifCUXMTXN7EAD4bK7thNHacGfKVmFNkw8V6\n",
              "GcKegt+Oo8kl9gHr4fF5vYCzIveeL1PnkA+soi5hXNJcikYsT6WyyRbXxZEtbxhIf/8CP5D7kwCu\n",
              "A8WUxOIi++Yr/yxAf8ysplQm3CeAAM+BAAAA8gGfJGpCPwAAE+UlXXwABY2qaNMXFzBThmPA/Uj1\n",
              "RdLgTgWEs9AweSA7Ev7XbhhkzQzTrltOeYDpvyobPCV4tdj1fceb7lzSBw9c7QK1PnmXGnt0p5b1\n",
              "owR0SzDPxR86VYAq3f26d0uk4VMzkw1r+gWLMUtDNBlteXunpqNZEIPEczIkwi3OK4pA0ZBKDrdx\n",
              "4G+iJjtV58hosw0B+auy9c69BcsRhlUrrYwUflCJkI8DXysX+KAc0Ah1AN8YJ1qbMPLZrq5gJPuY\n",
              "7ZghuqUkyx1T63q/uB5NRLbMewc5xu0VyD2uzJarVfy24TQ+OPiFAAKDAAAAWkGbKUmoQWyZTAhf\n",
              "//6MsAAAO/72ZZOpM6GwczlcSBg7zd93FakzyB17ajsagqFrRdD9NfP9ppPYRModCvaWtLX57Xv/\n",
              "y4MAqxQIcqjIGVNIaFROTz0ldCB/gQAAAKJBn0dFFSwn/wAAG6vfckvXqAAqqVcEUs/y8Os/6Utm\n",
              "xPuepCDMLtyqCVRTDc5BrZVQqvr5uvdbVueG5bu0N+L23M/b5JaiaZpXYNlDXLZBfASb2ac53fQf\n",
              "ubE+NhE5CuhyNlj06lXErZxZn0f2aw4UxsIssv4Woabzk6yXM57nEdkPO0TSLUYOsOSWYP7MSJXz\n",
              "q6yp00Oyax7IjR7RG5AAFBEAAAB3AZ9mdEI/AAATVLIOki6AGdgXLrNwOiFr1cfToVxU3uDaOOVZ\n",
              "qKrprs0eYCR9hNRf7OxUj7H6EgBKssaNylgGgk3o/Qe/NA98t2r+kSE1do2djwTwRxXwjgjySHW4\n",
              "KjVgdjFaHq9bFAphZZAmKoOLNaEabYAAIOAAAACbAZ9oakI/AAATV/ESQIkt1+YrRQMqVmfPM213\n",
              "GclGG6mxNr5lmRwqYngnOUUFOW/+3QAi6uD9HmiEE/kqSZPLPaEdNsjS3E/TAJnlnC3orPPb/QUn\n",
              "DjKgdWWp1CVNQgDpo10ZB5nDOGtzXuhTPQj3TtAfmqUKkqwVhEmkhYgUiDmBw5ifDrFNxzEMGqLd\n",
              "yocIjtebqIIU+EAAnYAAAACsQZtsSahBbJlMCF///oywAAA6nvZlfkTOhsHM5XEgYO83fdxWpM8g\n",
              "de2o7HYwBcADkleFbQYlGSDzOPey4ExYALyWiqAncnW2A3AQjdRFzrX1avf3bsXonVCjaJzIOV8D\n",
              "/M3BG97rBEibyzpzbZkdhucsDmCVqpm2EcJFLJxqDwT339FhtiSvZ2H1tKthTqhwZ7v7L2QpG8in\n",
              "J/XRYT6OEHUDvKdLD5M/WIAasQAAAOhBn4pFFSwn/wAAG6vfWc+a3gBJpigAdCPadNpxyLXSYXwW\n",
              "hWu8D90PGcWfmTfy/zG9FWHNBdnV+Lnyb9cFJSz4t2UW9skIGQgd7F9GaLDUUTpwyRu5S+LU3Kbc\n",
              "HvtplGnukfDTLZQbLd6pUO8MReKdkxykkOcHMwgw66uj/Io9n+UagTcvpyEJTbs1oyOSAI6t9YjI\n",
              "oo08ZRHscr4eWWiVhESdhgM61NNe/gZIkdni5+yna8BtWaMi2X5EGb2SRXDy6JaeRnNgMGCoFEUM\n",
              "xBkDiEjVOJaYp2Rb1IDg7GZElsOTUEeEABQQAAAAhgGfq2pCPwAAEtfxEkCJLdfmK0UDKp5o/zOr\n",
              "WQodIuJiuy9dVvSCcXJ3UCOWeAEcahz/y0vWMaWfYGRkUJTAEgEdgtELKmfXJlXIN8dRPO0Dh8gF\n",
              "1luF8fpFZVZyVDpU8M0wWA7sxGZPNzZU7Q2jpEvFEU3Teko269GeBrh3tM1PweqQAHzAAAAAekGb\n",
              "rkmoQWyZTBRML//+jLAAADjcvo8B8spxCCKrZYRnO7WCTMw8e4CwIfC6QWje3eTsAIUp1YnpFDBc\n",
              "vcB94aB526HaDuhiZ4TYxrKb1LTtLLggDA/6uuhtsXNd23axBPdfxcxndwDXa2gwf1/y3N5Q+Oxe\n",
              "V/5PxNmBAAAAlgGfzWpCPwAAIMVCsA/kSAEbgYWecyBPjg8o3l/U8d64ZIj9purjDZT2sSPOgTPh\n",
              "tpO31WFx32wsKbn5FF5JTchpbBWzZzokyCV4slbzg1iAyFGoFgUnJQGscSiz6fkYSjOhadOGbrMf\n",
              "P5MPSHTM6lEKXFq3j17jTER2jnE80KCDeQwj1DbsTgTJIxtrzl7KGBidoACDgQAAAHNBm89J4QpS\n",
              "ZTAhf/6MsAAAOT72oHlrm0D2f2xhrwOJJbexnc1u5QgLQfoPoFJCEzxFVhoAL4PN0m7r0vMPfUxW\n",
              "6rv5YWPmwd+BFU9VxoCMhjCQpCTGzKXPzoKhKBTL+tT5lX3DqIuiHlaNmSN+N8j/twdNAAAAo0Gb\n",
              "8EnhDomUwIX//oywAAA3sjjVJPgAcb//RJ4B7s5sm8tEkGxyk7CSNmU0eu+FN7jG9tea2FgsJ4Tb\n",
              "eicyS0exVkeT63XTs443gtDI4ea8NAyOzSx4sIbN7guedRb3Mqaz4EKZmqisxauuE9NvWlg/HpVI\n",
              "56OGbG07CBWsrsa7fxwfDdUmr9hCbt/kDp/CVrZbi+XSAOM/40GEqj344fgg1IAAAACeQZoRSeEP\n",
              "JlMCGf/+nhAAADcrvdxgARfpQ92Ba6BArjqN/Kjo+1ujtsP72F3gfgf8vdxpX8d3i4tvR0VlcJkR\n",
              "2UnQq9Du5oF6SumbbpuTdxVaT6pA8OTyX03bnenwLHD4ryXJbNFDQmE+/RzQImcGrHF9yTqpPSmc\n",
              "HvQ63Zxzfdkhk+UYurrGkLfKIRk4swsfeWvFSYSexru3Rhr0A7oAAACGQZoySeEPJlMCGf/+nhAA\n",
              "ADdIjViBa+nmPWJsiC0wYe+WpkCUbuyxShuRmwxbm7qRHaClVv+OtjBn8KRRwAXMC+a9U65hlX4o\n",
              "zQotb1/fWyNQF1cswc9ie+eGm+jFx4/qp9FfGLzYmyufC53h21YRa4t5pbK6339twORj5hHZHhrv\n",
              "ZN9wd0EAAADzQZpWSeEPJlMCGf/+nhAAADY8J0bohAY+HgBW////Dw2YD5j1cs2KINPNSgDuQ3H4\n",
              "NbaeFFwZjJBNbbWLtOq3L+9VDWPqp/O2/7FsmJORMC4wIJa+Ebxzq6iC8YdjyiwLzMIMS2pf2hn9\n",
              "8NXO/f1zKJp9dHoEf/Sel0DBmzAvOVhV0qoUQ2ODWt0gXLgxqcDcBFn7M7Atv1kuKNwRQGI5a5OF\n",
              "MJpBGbtWk02PHklZvkN1XRPiH56UkQDlYs6boGeBw2FRsyUXXpL+gNipG7+oUbWykEWyA7uSgKx0\n",
              "LGcyGIYvcIeE5TKYWXEtgvabZOpBqopoAAAAq0GedEURPCf/AAAbYWkIYlnpjnkUaAEnJDxMOubj\n",
              "1CV0RyKjfTzvINVvwSDrNfklTroqyr/acbJO615LGGblP/5EfPKRJczvpVYA1OMX7QXyTbEATMtl\n",
              "sKlDBb/nZ9r0CrrrfxDxFYH++F1hb2wAA5oykwd5UBeKsESfNRKZLtjiJVOaHRks82PU7ebGbBZA\n",
              "AZcpqPq6mgQzXZ24K3s2kxlDlZfMNWsdmgBrQAAAAHkBnpN0Qj8AABFeQMqwAjXp3rAbcEUuuT3T\n",
              "5iBuisJlsVfD6nj3i6TCGhdE/CJV1q/Hd801o2domCgEkGZU8R5HlOXl6cu5GoRGpUeFATMo4eEn\n",
              "C8D/L2O829kIy1KwWfTKajk0rlekaT8NZ42SWzeHHxkZlQ7cEMuBAAAAYwGelWpCPwAAEV02lCPW\n",
              "uXo+BQyvLJh4Q4extso3ao2VJdl2tc0YATNUub73h+6qsCveGHwV9XY35kZ12BmdRnidL5bVvvlO\n",
              "Vv8oJQXDx5T1Fwu+5xe5M4HYFMrtSpkX1AB8wAAAAJRBmppJqEFomUwIZ//+nhAAADT+xo0+8eeQ\n",
              "sZupWMI5h9xZbSZGhGa1TV1Hr56Xc7jv0gdiVjXAaXA2FmAXWAQwCYQq4N6y78R0W6NdWvTwg0oB\n",
              "u5s4g8jC5/0f+5t0gXoiWCxDp/0SscXtCRGQjFQHqwqOEjopkH9ic6qAeLfgoW/CWFdvx7v/kKnq\n",
              "7uqhT7/W+gR9AAAATEGeuEURLCf/AAAbq98B8sQviNKF0zvMdHSJkrYunT7N2iZkI82XlaqvyG5W\n",
              "SuXtLZ8IUTLuXd+X02kbjGxuCK0LjPcXGG4/f8MAJeEAAACCAZ7XdEI/AAAQ1LIOkDX5AAsQTqvn\n",
              "isbyYDyYlqjkC3MZ2nhiRTMBITc3USNMkckJvuHOj1OQ/sSH4F4glaBeUkM4gxuYsYoiCk+nf7V8\n",
              "Y/5rQO9dhcKnkFq6NHTYakkejj+F/+E3a7LE7qJJIfrQB6YW9CLuBAKY9p21lbZlxlAKSAAAAIsB\n",
              "ntlqQj8AABDX8S+RIARzwR86uRi9gHlV+cFMOn0Ee4tI1BmTR9+8EAx1V5Lwr8OAbfGs6kQR5D8b\n",
              "11QFJVjfaRHh1VeafrqRZKjF5H1EgAXKXGiz7hXzc/K60oGT4vvCnxOz5DBZlAZhU+p2TPJBXc0z\n",
              "SHJo96Kw68fyg9q3ZA0t0ZL9MUkprknBAAAAtkGa3UmoQWyZTAhn//6eEAAAM7wnQf4cGRwBVNfJ\n",
              "3NYBY3gOXjAKIhnBD7zG9vAD9XO5T41UeBQwnrZMGWu1Q46FI/WhrBQTBE+E62t1wZgg6ZNM+5P1\n",
              "HyM9UguSWrgWWoZoApQdhavfCBgpft6VTnR4oKDhfVX7QUe6u7tFMRO7COvg0y6iJ/gM8nQpNlPa\n",
              "EAh2fRu+5Xw5fnTHdQuWCCYdcqVlcNtPbasV574NTj0jONfl4AeEAAAAdkGe+0UVLCf/AAAbq97x\n",
              "FdWh2Jw4b/xNVoJDjQAcgXYstbHM7WqbDXvX3YLSIn0toYVNmn6vGvN314AIOVWltzF+jhnu5QIk\n",
              "kub++zrdvi8PMMmbsHidiuSRycrtAfkE4XikW7iztf7WiPx6AQf1wQB/11AAIOEAAADLAZ8cakI/\n",
              "AAAQWLuIEcTzYOoA03GTy50cHey6IPeyDbV1MYYb+7kun6xjgUYSy6+Oxue6YgD0Cto9AgZP7vfN\n",
              "FUHLjEGzPRe2hbhEen/92G8hQjHsjU3Ecjs0yphoHKu2RtxbIBYWNf0UW8sY/lFn0aiBcK9aNImx\n",
              "9cYttVC5dkyzpW6oYPhc/Cd+GC5Ek8CkJlvPKUxFWKpDSJoHbBfRvMRcUPVX37ADWu56C0P9PYnO\n",
              "whIrWyYBNGUYtBq9J8XSd2+e9HNScsAAIOEAAACDQZsBSahBbJlMCGf//p4QAAAyfsaNPvHpKfNk\n",
              "4AVnoU0VXviyiZypRynVMoKkC9j+WgBatZrai5h67bRtfZmpkfS0fugmAkt4OnUouN/JlxJiC6Zi\n",
              "dkdaziI1KuTDVKyXiQm13jW9U8AP0Vg2AHZOic1o+LFdwqphkC7mdp/tZ9f0CTgAAADAQZ8/RRUs\n",
              "J/8AABur3t8Zn1fi2sIqFNMjskPZ4wuEpoIAQzqI0jz6j83/XjU36ndPVHuNvYgAleZZNpYGb9lc\n",
              "uivBOl8m6PtIPJ79RbfT1+X2E2gcpJ5l/QAepvUYXC2i6oaBM1ep0l2IQRRQYYFjpHKRH16kyDTP\n",
              "KhnV1WRX0y7hgipIuVXZTauWd8sTIynH+0JYS565CGzcbljclU8EQvTd4lyNPnBc2mwikxdGlUZn\n",
              "jc2S/VmbJ4IfINUpSAEvAAAAbAGfXnRCPwAAD7G0Nw+o51LI2X/1pX/XQD0Jo9kAt2s2jwbOKcAD\n",
              "64Jndwe0c9yDFSkJoqdyYATVi1d3ShKlXylQDAQLzpHyGgEb+eCXifThM3khqbtKVlqHiyRiKYZO\n",
              "xjRN8O2w+J/9b5AN6QAAAKcBn0BqQj8AAA/f+na4GOoUYuWP4xTtg9zTZSgIrTSxW8C/81ghMpjF\n",
              "Ga26ZDNH97kWxACWvXkj1ZIOX2TkCpwl1uCzW0ASWdrl8feZfoiK2tAx+BlllH2HGe8ngX355wun\n",
              "MqVIp70J2qEMoHjOj4VFRDlgrxktuHQFHLIrFoSgB/doTUz3nNkR5qst79X4HkCwp7LEA3HZqiua\n",
              "YQXaJUWpGluVzoA6YAAAALRBm0RJqEFsmUwIZ//+nhAAADE8JzrWcj99GWQpIOzEUXBaOOK3en8/\n",
              "qmSKXBuDCClET1eRrdycFTURJwKi5GEt/AUqzwo0CyeGuf0Aj7d4Ddm3e5Qmo0hgXR+45v7s5al8\n",
              "4cdICh0gKBMeyJSGNl5u3B0dobfxkbTowNGnrd/is1tI0sbvxIdfUPkn8vbSmcsvEhvdkwHREKwH\n",
              "1FVvgKIvE8W+xMHp541TGk34Q1c1RN9QqYEAAADPQZ9iRRUsJ/8AABur3s0W34gALha0KKokJGXJ\n",
              "F5+DlRffsERD++akbhu6UntuGbpncuzA8VKAG5Yt/Q9PFs1efHExZeF0lSAkuqTjLyxG71Nyz1KU\n",
              "dganOg0So9U7NEHxusG64y5NZmDSjccYgZLZ7SkmSaqDwpbEY8QsPZ4QOP1Sx3XGb1jxwLCH1l6r\n",
              "pXz6JnkvvHcbHFHKTLvLpnnp9NOcjwfz82iAWmOTcvrn2XeCS2apXOYXrRXbW2WMce6rjJOaF8tb\n",
              "x7fsDepQ64knAAAAjgGfg2pCPwAAD4iSiBHE86e4O/fJYRlmw6/Gx65V/76amqJigCI7xjVhksY4\n",
              "FGEsuvjsbosIJOaqN4Pw6qQqmkMn+8+v3l//+49kgpNmdh9xbUVkGduP5OjzcgnfvK3UTuKEbfVs\n",
              "OPEyo/8RUfibuxJMZJJkIFLrggWDyeZy0Zd1Eebq8V72DIFFF59qFTEAAAB+QZuISahBbJlMCF//\n",
              "/oywAAAwXCdDDKhnOgBrPxm7TwquO48WgT6NIXAay/hGDjQl+dEI5Ktt7imOzbCkoClp7dsC6xKA\n",
              "TD6zDTD2re758s8YCybQo09JZGonu3dOTRgqaruOPEpAvoP4hzFT7LDibJsveQOkUD7MfQJncIuB\n",
              "AAAAbEGfpkUVLCf/AAAbq9658sQviNNrMzvMdHW4Mjaz5vkNgiYkK82XlanEe6MYdADXkuwAJu7O\n",
              "RN+eOG7De6neX6+4pFotRv4Zj/O/iyjdTMyWxyMGFpwyiZRuAmygTuyo9Rz9eZ1MJk3WocACywAA\n",
              "AHoBn8V0Qj8AAA8tY7GJF0AM7AuXWbgOK0EwOBaIXCnCV3Ne/FB9W5oPgyM2WugBKujpe+QawtaA\n",
              "XcF5y5uykLMjgJ+aUVlatsCcVbmw5edwtgOMnhPPTBOo2HEc0Y26q9hXjlEv39P25XjxPxrE3eYW\n",
              "qpeDYE/dUYCXgQAAAHcBn8dqQj8AAA8v8a6UPnIhfmezFBwRp8cLcRkjos/WJDwJ3WUNesNDicGE\n",
              "AASsN+Pv/D4Fh682webQKZtaF6Jiuw6g4g+NKvNdIOigk2g6F6xM8oBJxP97AY7LeJZqoOcIeL66\n",
              "geGqsCP3sQvgwFyVhe9c5NyqPgAAAHVBm8pJqEFsmUwUTC///oywAAAu4aIoo7nXP3H7Depvtmp1\n",
              "hBcQbYnl7ClWuMNgLHwaHjIBUZkOTGAG16BLtLCo8l6BE2xODpNAZb2/7f9wrK9+XTCvlWjbBuV7\n",
              "qaRi3kGX5pdFyAH92AEFME0QF2/qP5WhBUwAAABRAZ/pakI/AAAgxUFyi6p6tyBm6Q6U33XJgeCM\n",
              "U5SV+krCUS5ovUXhgAezzLq5C4B9+V7H25JInDNI76XSoJyuwLHNYyWDcSuhEdIURBw/yAInAAAA\n",
              "UUGb60nhClJlMCGf/p4QAAAtXeugccCu6BBMrg3wmEIx+KwO2Q8knmf/4AU+gWWtCWv1P6HVuoxF\n",
              "vzSQ37ttKTA2ijZXg2uKII5bCT1lI1xB/gAAAFZBmg9J4Q6JlMCGf/6eEAAALZzLnWutR++jLIUk\n",
              "HZiKLgtHHFbvT+f1TJFLg3BhBSiJ6vFUFm4f548WQFYC/zzl7E6Qy38UqfoerjNGRspvTlMFqwna\n",
              "kAAAAHpBni1FETwn/wAAG6nmaMk297oJt2md5jo7LBj7M26iChUXiNM+Tcls3SL5MACcaebk4YWw\n",
              "5KX1AzEgncWgvGAWC7EniboIv2uhRGtlVE1HNA5gFRJBkGNCqRdO7yRMYgqmR6QQsp2FmhUFrIMA\n",
              "jluKZqxxVa9H40AHjQAAAKEBnkx0Qj8AAA6EPMGbMw/F5kHd00vQYxsboj+vqYJSC2EV57vhqg4A\n",
              "+ADpndfAA/Eq+J55nwxKd6lzZ/jjWAWHdilmlIcFAd/2WwLDSf4VpxTM0HS2YJ8ok1ZorrfYjDfc\n",
              "l/teOjXdTf7Yfvu7jOx8lB0shXTs/xaYNowHBBPA2JWy3fYAk13selWEnadl3mP5efFfyLCT3X1u\n",
              "V6MANAAf4QAAAHUBnk5qQj8AAA5/8Zxw+biX5itFAyGnUk3EY+VlDMD4IYaTcan65JPbtHHRe/AA\n",
              "nVP4G8eArgW0bDUuSn4aUqGFWYRKmQAsToLtSSW/yVkKTZg8HqGH5OPO3Wjw/nfiIMnqgPtEYkYX\n",
              "5nMP6k7ddrm7J3kAZ8EAAABoQZpTSahBaJlMCF///oywAAAs3uXBnFWJtF6iB+3YGDwN33fwDm6Q\n",
              "O0rUezUF4tcKSVHltzpvTINY6x9A946JJJ6NwppdJfIBygWRKTOOLKRVhfxNSlI9k/hJFhURxZ8d\n",
              "GReDvQ5uU2YAAABjQZ5xRREsJ/8AABur3obhR634iuQ+OISbx5GCSYAknJ7q0bKcTRwijz2THzdA\n",
              "/0V34U8uc5g2Yckvjt0AJUS6aQggkXIvJphYF/NiMp7iqdU3MZ3Uc0fBAp44Fn42H2ysKATcAAAA\n",
              "kwGekHRCPwAADiVjqSPCU78K1PSJI2tPotIrC7VKulWm6QcXYATS7KPyIiYxwcW+nxSnfXxXpkm9\n",
              "pk7OvmFrNYhMMHf3buv+aZngMnPRObK5T36Gx46eagKDSiYOHtlfsFv41HSIyfLL4jybTTJ0YhKl\n",
              "JDI0wNiTZ9/MIBtIbid5QZbEadGUU/aufx3ug68vv0Pi2wAAAIoBnpJqQj8AAA3Pwi9IAVlJXstw\n",
              "NsKiFoEEmZKH5i0ac6DeOzUldkUI316WoHkCvcNQbIOP8v0P58G4kjUVk+cs0IXKEc7CIH3jHxJV\n",
              "zZfou2IaaIIZSW+tb9zJ7JIAfOKatxnYLZ4BflQskW4x/WGkNz/fh7E2gWlpkypzs5RsWg4xykDa\n",
              "8u8JA+4AAABeQZqWSahBbJlMCFf//jhAAACo8n1qpw24EzUb6ghRVSkSsPoMwNnlk6/8RwgkwHZD\n",
              "R5Aju9RWzkUHXnZTjadwTehwhUaWkAtfvD0BttP+ShSqz6I8dmwsBtAovQgMqAAAAKZBnrRFFSwn\n",
              "/wAAG6ved3VR/9aDgOjJYzvnXJ1L8s6MD86kTpXnG8iyxtEs4AH4qYaEDj6D65KXyjdaEnafWZOM\n",
              "m8lEdm9a2yW0qY0+JV4qK0odA+uT1CM4/D9EY1bl/e4RhcGWRCP4nbYyYXPCFCjM8/NzvVSKI2u9\n",
              "5NYeXrfUDgJZ/PSb+4+KBYReW/SprGRcsnBXqiPlsmeB/6stlO6ovI+QAEPBAAAAvgGe1WpCPwAA\n",
              "DdE7fG5IAS3iWxJzbveVkbWnbxu/kJIxLJi/mlCzhALuoPMRqYTdp3VmC5iUDzBhzDXw6tr2kFKL\n",
              "RFluJ/+Y8i3aJgbsUT0lmLUYx07MNJF1NeITBGYnCosuo0Jx82a4V1LFRT+CqJrVkelIeMPngmYh\n",
              "KrIlszmo/IC2981I6AnejxlJmKoWjYF5npJAUSnB4XIaaKLHDay2wfpB0Tbxb2EnzXlJoA8GgqB5\n",
              "P9EnIR3hBSWIi2gAAACPQZrXSahBbJlMCFf//jhAAACjRah1kgIAWBTFsuq++b2uEN/rqnclJrWR\n",
              "WfPbZBJfD+mFONcKhIWnWOOgpMyuXRsH2JWf4lA1vkZFPxgU2AInhGVHlPQwVHbcfM11QrklM3sa\n",
              "dOKBwjcUQXtTc0e+p8ApVMwBKo5e3vw4NLZ+R+1OO6+FGlNyD35UA+wggu8AAACrQZr4SeEKUmUw\n",
              "IX/+jLAAACqcy5IT0FxigAtnvWPJD/MrnQ+E+H+mOOSN8zuAOCJtR8emLn0je76CSPV7WEVSkuGa\n",
              "88VxnTyHlEOmvRBPS57JIkM1pcFbXeq/+gCZUPf1hwhppqm5RSUcKdTcuWNxxh0UvDYYW8tqEaQ8\n",
              "eNkmM1o3Llk4/zPrsmV7JAcf/x9/rgPi9EsSxA/mcpDLCJuO/W7eOI7h34xRNAWVAAAAqEGbGUnh\n",
              "DomUwIX//oywAAApSde0/mdgA42+LlNm3IAj7W+SRsymj13wpvcY3trzWwsFhPCbao2ehWSUcD0C\n",
              "Dz5W/2mUvsFXwzz+mtz0iHG7g75N4SyP52dpqZbLcwKHChYyMD64rYFozqX6shnoLg7yCUqRsMX9\n",
              "xb+N/mVTkRdreiYOMmMEEHKjEif4fXsgorYZGbaNX7sPztOe9DNHsMNA17clIuVQQAAAAJFBmzpJ\n",
              "4Q8mUwIX//6MsAAAKTUBb6wAsP//2qf+NCX/o2ZTR674U3uMb215rYWCwnhNtCAkoRe64FDf2Rou\n",
              "y53QZnLfLSt/UATKIXuS/ukpz04R1oPDMTef+xUfnLMjyNCNdRtdJmqVoyBkdgAyEKWkBeyyEGPz\n",
              "XIlv3idBwW60bDrCTWa37TEW3ot7htCHe8nhAAAAqUGbW0nhDyZTAhn//p4QAAApG+88OK+FwV//\n",
              "//hS+n8ZtKYF0iMKSZCVk/srC8BSvKM/KXFJYvuJ0FG9RnWtjOHALxyPs6MLO1zVM4U1GBjbyzqn\n",
              "+bw+NaXGWRYVjWggSNo3ttDoDuUT8JyomaE9sPyjO9dgrgRouaUvwfDIWmgnHNEaLUZ97FxoaEjK\n",
              "MaF/1zMespN17paYTp7L9+N9/SHSvD7R9nfGULAAAACFQZt9SeEPJlMFETwz//6eEAAAKOwRlcot\n",
              "kKUUtR2ZiSWGxmPZXdtc4JvEz34MAJxXVSsAztMgG4aRXsy/J4sTFvBOdQDN+87cJLA5PwzSG1Je\n",
              "5uPTDz+wkp8rFIyvLa4e/5XTLtdVw7UG7wKlnsgecT6sKY2B/YiEpII1Q+BTkmytbgpCRwAAAKIB\n",
              "n5xqQj8AACBKKjI5XOUHauK/x8pPKgF/lT5bOY6ux/vVw6JvMXsPLtYKHFnLedyAEn4gNis8k0IL\n",
              "oDFQLb8sQj01pYanHOh6Xk8MemMUVtuXoWdX8AIhtlapt/J/P90/oUF/IOqtrQ5mTbfPK7o6siX7\n",
              "Xtk0RHxLBrU58EBp17Dp2infMXNpxtyYyaS6rvb8Nhnae0l7oF3wQOPRp3YAAq8AAACsQZuASeEP\n",
              "JlMCGf/+nhAAACfA8GGNWoTjkF+Az1F8QY6ypbAtLri2y0hLIfyTsn6Rz1JpgY9E3M3h9YgAwmmq\n",
              "sZUH57YH0VS6OSaZ7nNztK7ky1tWw3ae3bXNz7nH514iF5GeGY6OA6xjzfTc34q3t4auKLwm2JGK\n",
              "zkzfif/2P9ku9tTR2hCtRQtQOvEZgBgqIxJXsfSZIt2OUMC7QEvrJsyMXT+1MsnV7RoDpgAAAMZB\n",
              "n75FETwn/wAAG2Fo6pJN4RACu8lDKZ09YGE0foPtD+6mSAtEdOmi4KgP6UHtn5C4H83yGWg0NWEW\n",
              "c0KkUGnRCIt8HcETh0pEgvJ0qxxiREv7/VPGgrYYIlXZBkpTES5sG9c7rn0qTorj3yjjWOviYZGP\n",
              "O+PxaeGG8iLIYzEkqT29lew9XioNhm3xRNvYwx5iC9qhAO8onz+yVivaoED+qb8r6I6QVn4+vOJo\n",
              "pS2NCWk7RaPACXsSXE1bBCxgi/j96iQAB6QAAABwAZ/fakI/AAAM4TKccPm4l+YrRQMv4Xj08Eru\n",
              "M5HTxUCeOUZqOPsy3gfwUP+oARwG7lWmv92smiG/Oy6EXQcZzFIDNEr6ni99mhOxzF5i8oFxFV+0\n",
              "Ke/fHe9VazQ7zqa4kNUoUfE6mcs3nv/7ZheErQAAAIBBm8JJqEFomUwU8M/+nhAAACbfPYaJ2bBN\n",
              "w1uj9nfQEWnxG4kX5pCCd/w9BwRAETBo3hWj1t1AC2ea17WQaWBYKgRBk73fiYpHLKWv7ZCg8Qsl\n",
              "9+F9K6YH00SyZEVbtXxH8Wf26q9SA8K/pCMNO+QTD4l4BV/pJ8NgeJ+nxYIMqAAAANIBn+FqQj8A\n",
              "ACDFQIDR8iQAlFrNiummcXro5S103y0yTxEDMabYlUHI0X/PAhjzyMUUtSf6Ntb5ZIO+asNswhpQ\n",
              "NuYppilfENip3e0/VfG7El8fdvhhEKmYGo8VGOeH8XW2+UgCnWvWJlD9SgAN/VL+8tLiGDBfJFVO\n",
              "7AqtUHAyn0D2j6vCm/HAWA6Gn5UmgvkFxBUqzBUAlz/T0hD1WWaSWyf0zZjweki9Ue9Ch1NllCPu\n",
              "ObNb+4mUiY+i+lqlQrL6h/PpexOHsk1l/oEaKhDACHkAAACMQZvmSeEKUmUwIZ/+nhAAACWo/0He\n",
              "JcSAOHzpgW66EIkTlCVUa5edhNrrcBaOdvYGxXqHhwgE5hIYbAImnDm3dRMytwLqcxMI5KeIo6Am\n",
              "8hVpQ+1rRYdXuZ3JU7AYUhLlQJRRfRmwFpflMNYIVIo9UpUwlZKzMq/XPxlLG6CO2F+MTF7g3gG4\n",
              "mXWQKSAAAACcQZ4ERTRMJ/8AABup5if5N9wADTD5kjuTlB5MLlPgaSkcNP6NclQNPzHu1zbYD1/x\n",
              "Efz0n3snTPpsGiPdg2bRF5BFVA8MXr18XezUw3Bzz3ry/IuTKBhZziVvOF4F6ZfoxAHGHkIMu7Hz\n",
              "JYY7NyqPg9w2jAvq33qjVfks6MXo9IRibPkR++UjbNDSupBgZtoKbD545c2ULnQAAPyBAAAAUgGe\n",
              "I3RCPwAADES6ns9UD4dotyquFHL0XWHpjrOkW9O9OdEU4qpuArVZcNq3mTLf7a3jkNjESjRCC06G\n",
              "NW51Df5VwTlok0VdH3lgn0teTYwoNmEAAACbAZ4lakI/AAAMRDtKEetcvR8ChlfOaQ22Jiu4CC50\n",
              "oBgF2Xa13GgBLVqhjW9vojQ8JdAcpBiojLXyUO/tdvN7DGuDAYNNdlqitH36xB6bEq9vYde8ubTm\n",
              "/AF8y1rnjhvH6L3ivl7qYAF/fpmNvvyPWzLdOuTmFcBmfs+tK0EVHV1XLLsx2LCOihzpkGnDstaH\n",
              "WqK3YDMpOWsAD/EAAACdQZoqSahBaJlMCGf//p4QAAAkqodh5ZWwBARV3Cf7P+I0nHMBQMyNo+I/\n",
              "sAcnjj4O+fCfa//An8JSe+8WQzsyma1fN0g0I6qR8SyhhxvzxPb3jRTYOTUNx5XZ0rQL80AZvKS4\n",
              "8+9YdfAosvNdT7rKfqIQJp8kPLxFZfciMpLH+tyCLNkTUJlmnxzCqmM1C8xu5SrJSbE8ZN740Oob\n",
              "0QAAAHFBnkhFESwn/wAAG6veGa8imYIfpRRzrtliu5qFgC0aOoGwE5Mzy2P/Svb2QRbetOpGemp/\n",
              "69Ba4LyYN72OYnTuZFY5V4/UEelAyFNnThu7IcJFNddtEF0PZw0pO690ErYIRJWJjuihgPfRlW+e\n",
              "dAABiwAAAIMBnmd0Qj8AAAvu5baNd3iebmg3caKhZuE478iIzNbY0xwr97uCwtls3qkx5ZAB10hK\n",
              "tc8Y5B11OAFz2vlILRJ7vor9NdxiIsy+kyrwgScZOHyvIpv6atjIJBMkAcz106h0eANnR679Qycz\n",
              "DOsuTgFAtUQhWohxuSEi7czIbD0piEAH3AAAAHMBnmlqQj8AAAvxO3xeBWSEkumNiXovnBS2s43u\n",
              "u6nMF2i/XLq2xK37XjBCGVfn7lbhRjKlkAFqNDg8xh1q5cPouog6cE2FPl0IxLKOYh/1kGdmf8LY\n",
              "gmfF/pOynkVbst1DzG1Cz2KlN6GYfViyxwrdIKmBAAAAV0GabkmoQWyZTAhn//6eEAAAI989hp6u\n",
              "azFdqvrNd04VzkLBNamjQ+43S9X3mcSoNh/VUDgw3FoZLsqs1AUftqUhYZWFBaDjBeLT5UH7MW4e\n",
              "rGinyGhqwAAAAE1BnoxFFSwn/wAAG6veDq7qvWuf3ydyZI6e/m2T4Gav8igBdHJg+Q81OtPPWKPF\n",
              "t/nJy+QiTo/PS9HrSHsqwc3guYe0jgXyTL6FIAAVMAAAAIQBnqt0Qj8AAAumGpgbMw/HXPSL2j4q\n",
              "iwfheNxQcrVYdzReFdkkm99VJ6kSemuV5ZS0P6o8q/2UAJatOZhMk4GJX6FIj9koAKU/IsLbBvwX\n",
              "M+vxr7oi0YcWkf1WzGv2SlulXjwXeQj4D0o0ASm26wibOzjIpldEyls1+5ijWgc7wBgAbcEAAAB2\n",
              "AZ6takI/AAALopKccO1mRiCPy9Lt8XmABpSqa2lSm496t1OrulLyiZkGYVcls/6ASgKIALGBJmDM\n",
              "ND/yT0XRbtbGfU4SV42cCpoW3zeqt3LocaDn0u/70RqO9rV7Z7u1Xf7MNKSYdrmnjGJAp9E/An6R\n",
              "pCQxYQAAAFtBmrJJqEFsmUwIZ//+nhAAACLfPYafePSUlxn4AQHRgMQH3u4BLj8pJNoSUHHh1gxT\n",
              "gpGJzRtUYT3YQMdsBSvOqQPgbEsWzt7QUPkRWEecWrN2VvxTYaXn1gEHAAAAj0Ge0EUVLCf/AAAb\n",
              "q94D44rn2zO2vcCUxDUeD1tJLwwQeX5S2/0FBj3Y2vXiyYrPseARGnXSdpN3dRontc3mW8EAJaoe\n",
              "P9RwXWXp7xd59/BFTSs/Ta5sRBNPDw2cT3Ntx7gHZLrVac9ebLFlu9wgGOdo5NCpg/xQswWeO887\n",
              "D+lYVP/2tF4DtnZDXYYAAG9AAAAASwGe73RCPwAAC1hLqkxiU3W4vDNhgA8HlyLZwjUEtKFCz4Rv\n",
              "RdcVx3xw5yvBq00kdVpX7IkHJ7iH8tvP8kdfePEYd6FCeTJJYAAEXAAAAHMBnvFqQj8AAAsVm09n\n",
              "qgfDtFuVVxGBn2I2+Wpp+uQ6J+/nYoOg9wdsdBQACUzYT8qfRCdy2vfa9r1YofXLdu/ewOQH6xS9\n",
              "VtkHFJSYzIvGIQeC0lHueQx45GagflxubOr7G7HJPqsb/EcDKeSzukRAAPSBAAAAgEGa9UmoQWyZ\n",
              "TAhn//6eEAAAIaqIs3NbQHehN+987ZjQNWjzmwgP4lhPRirFoLrBxYgAR69cxX8xf2i0DgBCLrQ/\n",
              "sgn4NH4nfo0GJdJeSaeEjtsIi5j7576PQi4ovcZAyLiNUxSBOgqwmRpvXovUKXkTJpGSTGTVDr+K\n",
              "ZGNqAC4gAAAA/0GfE0UVLCf/AAAbq935W2/EAGts5hHKU7mH35UM20pfx3aelXyozg4vBjrO32YD\n",
              "pHDpNnWXsb1BaN5burTbYQuTf4e72hdWxovUBvZM0vC3ZEPlX07x2Jr97EeDmA1cam/VssX4TpRf\n",
              "AK2YE6n01/e/zlwegoMsBLqWtHFEkNDaom5RDrzE2HpgqmDWI4Pnd3sIkZCc/Bg6u6ynfFoEk7gG\n",
              "F/mvrDX0kzWPwN0pks3THtIlVvURvEkPNOeVJ3jesTmV8QpHK+Nrxt7MF+HkEOPN6Uwn3jEHqemK\n",
              "u1xomQotL6aRqDkgs5xAescjJw7IN7OZxrhPVaUMjd8S/AAFbAAAAJABnzRqQj8AAAsSm3a4GQFM\n",
              "kPut+r8R6Oc0kQc300aVLHINypZ3P1cuO6EiNMQRVd0l32XgJeABc+TsddIq8f0PyxCNGacK8Cj2\n",
              "Ia+9FygA8C0I0/yFUFrkpr9siyuSfh4vpxkszG3dxaUY9l6BrQFCyMK5SgixGsoJyY+ZWZuJvqHC\n",
              "H6IyJiKXu1sZN8AAdcEAAAB2QZs5SahBbJlMCF///oywAAAhP0IGylxktnA5nK4kDB3m77uK1Jnk\n",
              "Dr21HY1BULWi6H1pP9/c9872mjUArTWeAL0DGPGgFVx+pkLV62qczDI8VfRhR4SBBmRiC1TpZhpE\n",
              "zd8uKZn1p8g9XUv/4kWa3+v+OD0BVQAAAIVBn1dFFSwn/wAAG6vd7eId0j0ANNytzp7DgTfHTna7\n",
              "HwPyYVivHEyU7dNBUsJoVqrTkNW7cqEmREovgAHKB/5EBNa5FUACbEuD8hxg5hUMKCOEs6ezf/jt\n",
              "RO9AHv3fLkIVuPL/asAwcQwjRPXWUKYTYTqe1xsTmH8P58R3Bmim6ODAACbhAAAAagGfdnRCPwAA\n",
              "CshFqSPFgrn0/fbOBuxr8GVf0FbdeFBI9cX72LyzSrJ09WNgAtUJcS3beE+3fUwcSs0LDvzbYfr4\n",
              "Ce0M3AHOgrvsvSmMJ5hRf7KLnk8a0qr8PA0PlvugDro/3igPuAAAu4EAAACJAZ94akI/AAAKgRec\n",
              "mu/HKwqjogzpa/+k48yd6KUBoFO4ZMz2qd21BAAK5rOL3ncGwiUMKjqkQAA9VUOB47PWf3zIycMn\n",
              "rlyBN8r8rw1xY1lPmU3ps6k6RXTZvQKb8zDkpt5daYTx+Oewt61egwLl/V4tqBXzbRdZTEVewUS8\n",
              "YwErnkkgRVRgB3QAAACwQZt8SahBbJlMCF///oywAAAgP0IGvXGS2cDmcriQMHebvu4rUmeQOvbU\n",
              "djUFQtaLofWkciniiogBB19vcfaY8Ng9mNtsOGSSDkX7MHdgGOKNd3H05dIb6tnPE1i2IB3dkQ2v\n",
              "4OJggm8uGewB+2g6gX+a8plhtxj095+/9Tuxw9YZ/yxtUeu8zCL1pmmRSrURK2LUlVRnfV4sdxQF\n",
              "9bUxQeAOMAr2LJGmdqwk/uZoEfEAAADaQZ+aRRUsJ/8AABur3eNbb8QBf2OaBZm7dTBkEEQL8kV4\n",
              "BXD8oW0iF7PyoqeI3hM0I2k4v2Uui1r+qNc5J5nplndKdpiondqlZKO1e8XqBTuK8wsZFoMlQdrK\n",
              "9bDbT7Zm2r9RPjy7qwgHHcmlaF00+b3Ta9fXbKoT8Hx9oxY9n6+q6ukhoocO5V8njpyBM3cGqJpW\n",
              "BCMc2EfEP1wJg5R6mV4QVtEP4dgk7mPnyMV86lNgY2tBoL4FCgD9WPj5XWgTbwZ9kUAQiPfMXVqD\n",
              "VqXA/CSBUwKR/LzAAXsAAABoAZ+7akI/AAAKgpKccPm4pSo2bW3dF+Xr0PdBuE/VWoqqVsBtqJ6+\n",
              "WJ5gtGKFHLDZ3eB6k/TlUU7Ue6qRnm0BVG+zlrZie5r7CKU5VnLzBiH/BgdoG9LSnO5zFBMx8mI+\n",
              "bdjOaCQACTkAAABuQZu9SahBbJlMCF///oywAAAfM+/j3V+WBTkYFbB52zA94IIgA/wLcz3a1FcG\n",
              "PHk6bNhSOzhcFXDyRqjD+ScPqnHZa8JdseXU+/V+gUYk460mVHywNneBpCenGeMNeoD4g7AF/xvN\n",
              "7d+8XPAg9IEAAABwQZveSeEKUmUwIX/+jLAAAB9fe2qIdAJLZ17IbGGvA4klt7GdzW7lCAtB+g+g\n",
              "UkISp04uM3oxJw+pKOsPJeTe2xnEYAABznatOJBzg95ohgZwckYn/laaN4W1lOTNub2yKcKrbm5v\n",
              "O6ny+cErTP3DUgAAAGxBm/9J4Q6JlMCGf/6eEAAAHk85LEACFPg2+HAjedCtEdmVU0bVeRRIkHO3\n",
              "R5FnTqL0v8ctpMrLe4OrlSCx9sc8pWvKLuNHJR8rr6YyzLva6rd9YnYWhTBlspso4gJTFN5VL5bJ\n",
              "mzb+pYMUChgAAACzQZoBSeEPJlMFETwz//6eEAAAHn1duloQ8rAyVTdpdhQlQ2hNw10f+QZOwcED\n",
              "Jjlt374nMwXiW4GBbsacFUvHOS8HThMgYvveNv8/cntG48oMGpUFaQU1zu6MHKG+H/+XZ4eHGjKH\n",
              "qBudp7Z22X85U7a+soNqmQFHt3eyjIYe/AiKzFWgEGEqQOspKHQGFOC3wOdmNz63O9UrwjSGGh2M\n",
              "nZu77S4/KjeAIqaV/dsCKyKR580AAADfAZ4gakI/AABBeUjL+5PuIC4gBarWbFdY7jll9gTx1Toj\n",
              "MU6dFv3McIAzSh3H8i/XP/AD6VIpVSscpSO3Lz0JMOJcZF06a5T1fbqmEO47ObQb5At+kFV7enyl\n",
              "kPRCy0csenEmwtxbuvVOktCjUN+iccDwIFrimslvQhlrFY6kfICOlDrRzhNOd6wHuOyGS7Qz6m5t\n",
              "S3HHWdoloePAmZp1RoayBgk0yOKQY0JqdpfpIHKol4QBGUOS1fcRw2j0ROLAhCyjPuXomLewx2vQ\n",
              "wUel+yMzMzqndxRIgna2t4D0gAAAAJtBmiNJ4Q8mUwU8M//+nhAAAM77Hfo4fGNSqQAaKn/DNvSg\n",
              "KRLD67mTfGHtrXVrD/q5g8IC96VXfEfeKHu8EC5K3av+K5FZ0TZTjYFcDfHjHSOA9JLS/bFzXrau\n",
              "t7BicyM0Ap3dpTBYDXX0YfdeB1J/g42AMlbuHsj0XIovXYo7jc9aBamlDBT8Xk2l/O0JLLIPVcOM\n",
              "7dUYj77CHwAAAG0BnkJqQj8AAEFgcaPmzu7J9VSMVhcylQ2zc/2/cddSmCu1fJGZNuich0X5RAAT\n",
              "OyKKWbD8Dx9NYEXgmmaZ5hHrf51wNq0KJQwjfns2mQKGg2egw6ExytjmBPNBntJnRcZbqmkhTG5+\n",
              "ICg4gAI+AAAA7kGaRUnhDyZTBTwz//6eEAAAHaOfsRW/q3Uf+HgBWlh3Y6O2m0vcInIMufFueQvd\n",
              "dRxRQUfkU0bWH8Nfmw2U3hKwPKS2eizKQOJuwfmtXuhaqxD24G3IPBpsSV9kcgHG0NkJzU8jAZdJ\n",
              "LEtM7AzImGuddiink7LOLEX6gIj4z6r7C2cWkBxswy4PsPDUUNhNIH2hadgVMNzQIFiJvPyAZlsf\n",
              "m5xpsUneHPzTxiz9qJc+Uuuck/xQ+iTb9dYK8wzeyTVY13ImuVw5GSTMrxNIKGNnVjKDw9d3WEu1\n",
              "TYn2pB4ogAT3nKBUaTwBz/3UQ8EAAAC2AZ5kakI/AAAgSioVzXu+rLu/3H1DomPJEk3Cfj52mlyx\n",
              "0dnPIqYoBHAtb7GgxKmGYDtijmsGoEAJUU+PLFMI8N3B1pWNm4BOXGMm8tqOcj908qB/mr0QH9us\n",
              "DMrv3loqk1sYLvkTdRVFdtH63eBLCHzmKnUX9AscEGd2As7FCNXRzc2j9XAb/Cd+dVzukanQe5Bj\n",
              "Mo6MwPkXul0h+yyjWtTv1AMmsz2JE0mZzTYUzuHWaVwASsEAAACkQZppSeEPJlMCGf/+nhAAAB0e\n",
              "E51ruKcgAsV0+VlZDU92PBbvKui9fdxdf2QL5yDYrnC8CdiNuM7qwm75on0nHRfeEHKSHvi1j7li\n",
              "V4NBADkBipyi7niSg5cgkyRSlhllX1z6klVFWv2rK08WOh3Xm+LoZ4En+YHCsFML6ldRE8jDCipK\n",
              "MGCLFlaiEjRXcfE9fEyxWGdo7F26NF4YSSsp6AdgDVkAAACBQZ6HRRE8J/8AABthaNIPF5GI14bk\n",
              "qIjlCYO+einvL2Kl8MnDURHRSjXyHp/cSPP5mZCB18EN7kuxwLs5EZm9kv/euW0oZp4ABN0CFUOO\n",
              "R4fUn+7pInHOHdKtwQN39dyjnEKSd35YxVa666JUX1a4YAd2pQHMt5+eR6SeL8GhADKhAAAAjgGe\n",
              "pnRCPwAACW8gZVgBLW4UOJcBYIO6XK+B9H9e/tkcGGOhISoRKLk1nbbqUUrgV3XDjuTcqVAx5sUl\n",
              "tS+ky5DMLorE9xhAD6RDNSbxHxRWAw1tEtUPCQ7lNcXHTgE018fgqo7eJz2Zyf2HBvDjnoogzEC0\n",
              "Rce0ocUP2R2KUZjzUrCl1EfMgoWSv2mAUEAAAACUAZ6oakI/AAAJa/8/Y1pbTOGXsurR3Fc0iwbk\n",
              "0eGOb/veCBamGMAggWMkwF/K/wuhYcAJnF20eXuCJXR0d+EyTe2HnmLhdb1WkARY8YkVh7dmu7Ue\n",
              "e5VH1HLUD6PQH2pClYVDAd28IxyvinyPda5jlrZ6CGVK1yMl11Xcszw9dNTrQNpdoi/f39pwEADX\n",
              "eRSU/HSDUgAAAIhBmq1JqEFomUwIZ//+nhAAABxuE58Vi11aAFbe9wGWvwX6GPW+UbA9h+i1Qkou\n",
              "T3XCP/v0EpGbPTrTrTd+P7Z0fsD8MPWvZkPNBAGIumP38OfjQBCW4jJCvk+coBWvsByOHbvEmhpe\n",
              "9hFpmRJ5P35C1TINLkbgUtcEvDLDl5JiM2K/fPT5nhoRAAAAQUGey0URLCf/AAAbq92wwjcTrbZw\n",
              "aqtuFHajwg1zntAMwwXgf5XGej5NpWTfB1i8J++4K7auDD7EBRzFKbVUAF3AAAAAcAGe6nRCPwAA\n",
              "CSpZB0ga9SFDl/9S1+qCAuiccQFLJuV95v8Dt+BNbEjuf/aMGDwwACdAG/XpOMyTmQL4iKM8N/Li\n",
              "g9NnBN/o1pOim5YSxe2gsc8K6WxcMr7kMGjwL0dwbaavCM83wqVMfATUUVlEApIAAACrAZ7sakI/\n",
              "AAAJK/9Df3AAuvExy7ZOkdJjpebzEgzsTyFC1ZC3a5ZwSGQilUVJo6FDQ8V7DRFlZOu4ku+y9oXJ\n",
              "UjrpFXj6Hqd5h2QUg1gY8I6H33GHlRVU0c1Msb/48nUUjwB8zxbPAHFw10BMmAC35ufWJg1j/iTy\n",
              "PawR45UGrTefCfcsAKr8CdD8VR8QBgbECaOiOlDGFbN3gH3kI6ixfV24MokhgQjvINmBAAAAbkGa\n",
              "8UmoQWyZTAhn//6eEAAAG5n3v9H+whONBug4hT9j1vqFEmn4zajN5KLczJKDkBLsZG5IAXCbCACv\n",
              "65K5KKicNcpDjJU6dt3LK6XU49r4Jp06hQMktJytLX1CL1/UnWW5prKL7bXaj3cOqgVNAAAAkEGf\n",
              "D0UVLCf/AAAbq92l8YRykpgBof/G/cTb77OD0CdFbWN5+lF2LPKoHIkdbLgFgJfN8LfODPz4I0q6\n",
              "Pyiymx729Dn/VBos+kMEIdB0cEJw9B1F62JDi2/dqL4JA83OEHSw9hI7MGUXXW70XdlvEJnIdGs4\n",
              "vieGp6v4HLfbSyZysGmKuRTG+PbWX3RWOuAEvQAAAGoBny50Qj8AAAjqXZ99d5rh28GFNJgF0Y1d\n",
              "V7IQeQrQ8mgHkjK67sst5gR0AJbCiQV3BRxv7Ugjk9ZcxExVzyeOap34wOBJM/3YTXnaz3zLI4W4\n",
              "PJ7IZmbqv6ku2zemAubmvVC6PUjCgFTAAAAAlQGfMGpCPwAACK6bUFZaRB/reWyNu/XUGv2vupEJ\n",
              "32+Rs2UdJkRGa1k8Za8SVIv9qEMAJxrYG1u22arVN6yy9Pq6Qb8sQf74aVHmbixH2BbzZkyQeduc\n",
              "fPxrLHaAFeEvnMyhhH9WEgEnBEM37beKnD5lOwP782nS7tTXeCyP97KQxpPHab2u3SFv/3uImLbs\n",
              "lN2cdE3AAAAArUGbNEmoQWyZTAhn//6eEAAAGx9jZFbkCJT5zwACzdCmijkJXVzWElKGtFWg2cM4\n",
              "GGWnvwhEB386i/i8qnx+++jqUuu6K/pHMZfVZJJgedrG6B+ATV7VOyqfzkDBzfF81ATGOaoQhCCq\n",
              "zMjCYXfWmm7XCUpFna/mbNXtMl2KuCWG2IYW5f9P83hYjxYsISKO9S7BCE+H2x0TfGo7VnNNu15g\n",
              "skhJ9bohZFwQ0CthAAAASkGfUkUVLCf/AAAbq92c8iDOttxBqq24UdqjWUbQaAwhClib9DGGyZJs\n",
              "1zExwGmPudh/iGX975x3BRw2Jl0noRHPik9Mz1mXYALiAAAAWgGfc2pCPwAACKv/P2NaW0zhl7Lq\n",
              "0dxXNMK2ydvsrAnBH0gWphjAIH9gN4/EfyYedOXDxim71O53ELeeWMGReZYQbki9TqnJCk8rDZPd\n",
              "rH9SEnCnw9KckOdRLwAAAGpBm3ZJqEFsmUwUTDP//p4QAAAafhOd8+7a0IFt3YFAjK7GN9g4dQHN\n",
              "WoC58dKxgBcqTKgXJj5xd04gAqOn7dYVP18kzMImuBa+A7uijGu5k6M4NYOvja8HMBPUxGi3GEGw\n",
              "0LfnHNZGhCThAAAAkQGflWpCPwAAIMU/FZTUNUvNbASJKUtxjM8ol2OVUY69nttBpGwATiHH8b2y\n",
              "dQ1NW5ybaIYvGZiSEuKLEzyqZD+8Ag3k4JEq+WwKGhGj77Ef1RbjAHBLY8r+qdwiUYPxOB0eeLTn\n",
              "napiYjN0bDv7oxCGforcH4/fHos8pV6fknjLhVTJd86mhO7wMsbvDa4QBswAAABmQZuZSeEKUmUw\n",
              "IZ/+nhAAABm19NP8jVqE0UGMsjLLX2Ahd+v4Mc/DwByUXm1sKHmAQAWwoyR27rCV7BEnv2AEN5ZY\n",
              "LHf3/jgP6+66lSVPQhLu20Hf4dTJfOa+2OMUcjBeKNOsudsxAAAAaEGft0U0TCf/AAAbqeW84RBo\n",
              "tWxVg2dicdnxb19TybiEfmGBC0EmLoooWyQo4bmoYAQm8POeTrfLeNeaixksjz7om3x9SryMtW6n\n",
              "WUiXGkxRqvYme0C/3E+1d4F1hCv8CucfEKCSAKmBAAABIAGf2GpCPwAACCrwZf+E/7wkGKbT2MNI\n",
              "WOWJ8y3B19Lg0o8wATn66zHNxjkUt/rSov2drA+K9Mk4GJX62GFu24thkqJKvKZYcnVReWRj0V67\n",
              "sBkc+eTNsyOOpkvmgz4E9kM8giJb7GrPKsg5XDB7VXxxHAxEF+ldWQzCCQ2XuVwNBWdMWUHwaRov\n",
              "ZodOUSkjF27WoxtiNo0Q4fB/89mpDdrpzteQ7GAyyfXO814jNYS6QQEwWAoErfPYoAP6vTsWYWa2\n",
              "peni2ESgEG/+cijkoEz4ZWMbJg0X6roQdwMEM+av+x4qh7E9tli3Hiy8NpI/PdPWlotfkFztezzy\n",
              "N64UTTtpRYHIJIzZuOIbYUtMRzqcYPKHjX94DG0HMqx8RR5B3QAAAJ9Bm9xJqEFomUwIZ//+nhAA\n",
              "ABnfY0aWfacawzkVJ/Hi61Kd4A0DAe6eTZqnsrpTrGIANoOyFWNQgyLxHgEzDvUf2EDtCLaZnaDA\n",
              "ZVeDaMKe2AfHUuxlCVefMnyY5A6DI3xzuDxHz0jiO6J3f2hzWP0jVUPAkA2Fn1gzZc5btkxtr6TS\n",
              "MrJzcp2+mS8vJr4NQRokadghhvzz8WkSc8lGLcEAAABaQZ/6RREsJ/8AABur3YoguH4tnHa3Mf35\n",
              "bQAkGiDqWOAgYZ/4l8YAi2N/Avu8oYmWz5Dml1s0bfQaHOVz5uv0yI4n8pFHaBESMPm+HX3+OHQu\n",
              "rvcGN+S+AAPWAAAAhgGeG2pCPwAAB+8dsDfESHqhy+rSFdX5Moxb/W6i3faqHQ0SAmwGhqCq3gT+\n",
              "l/VHm9AAE3aCZJwLMKHCG7FFQBp8ketICONUk637N0zOjrIVjWLfOsE4nEf4nOOyLc7vcjx6Wbbr\n",
              "WRGmycmGjK2YJDAXU7AgaF0wjbC3+GW6exqVTFiG8GDBAAAAkUGaH0moQWyZTAhf//6MsAAAGW9b\n",
              "Mr8gWj13K7b//8nH/d13ItzXt50SXLSFnf9TzDU88Wgs3+m3JzdOqFR6f2+edr1hR/1pz99lhoBM\n",
              "TV17H2Mj7Ul2nLr0Y9qwvO7mpBgCyF/MJqIRSnibIaMpkpoC1Ghad5dfLvHv8F0upWVExI3fY59O\n",
              "zcyvKpT0wALYipkAAABsQZ49RRUsJ/8AABur3YEguH4toJZPmAq8kxYR0FP0P3gMNi2oJuU+fSnt\n",
              "GPu91mQA+k/88JLZVho7lzucQACW2EzUMMFOPvpYv9d2j6zirqKerAg+YqYumJGyCVmwDxGs7DtH\n",
              "pVppCpAcAB/gAAAAXQGeXmpCPwAAB8MdsDfESHqhy+rSFdX5Moyb/U2+dztVDoaJATYDQ1BVauQz\n",
              "RLlCYl16Un1OAQ3jkhMrOXEJQNnQuBbtzmnUM7Sa688nALTPANtYpfz2ZR5IrkiPgAAAAIBBmkJJ\n",
              "qEFsmUwIX//+jLAAABjOE57r8mkt/U76vZR1VlHveIbNBZ7O8geZKAXIF4iVldPHAxrF5t98UAIA\n",
              "EOed6Ro7bKRWdm/gp9K2RxiHMtbQsCU51BXLwUgbOEItoM7eCWiYew++Y5OzTd4z3GdvTzeSFSt/\n",
              "4MJxKn7hPOkLKQAAAFtBnmBFFSwn/wAAG6vdeB+Zbr1dhnDI4VpCvIUKZij5O73bys9Hz/Cl8C84\n",
              "jIf07Jlc+3vKuMPHslVTlWT40Oc+rgu7aSY69tR98VaBFMl09dDWVjkBzaWZhAEHAAAAZQGegWpC\n",
              "PwAAB5m+rJ/j8VzCfyirl9fPIG645So9DgWd013tdh+4PoABMQ9RgfeJKTr1G9RVGnxqACMNCjhh\n",
              "pbQKK4vZf31fQoPFjWtUrlp+NBHBqyOeuGFptt6u6hvthWv6jb8hAAAAg0GahkmoQWyZTAhP//3x\n",
              "AAADAON6acxZQRApL+yfdFOX+CMcByf4QdgzVz2XaHtDlwe1TZR3IzB5moPRgS5rDhqBACFVh/VH\n",
              "DQbyEtvMqLbIvpjEhV2+8KrXQdCHt3P5q26o0Jn1imepIIiQPME1DDS+x7nG+WSRfmKKg3WPiIEJ\n",
              "lCnQAAAAZ0GepEUVLCf/AAAbq91vILq8jNjRSkH/DRExYR0FQGP3V2CZebSelNtmAIvqQAYDNWsk\n",
              "Bo1iFhiGBcoyLlZ/dZxYo+yrtBa4OIvg65VCv1fNuuSu6Vt7RvhKgyrONtvcK85UGQmIBs0AAABR\n",
              "AZ7DdEI/AAAHlrHUkeEp34VqekSR0k+hmZFzrWjg0NQZkLdiU9kAH7hmiDYBqGzK+KrcPRHntBgI\n",
              "WYmWr9VEGFld6ME8D5C4SH5MQtYjo9SRAAAAhQGexWpCPwAAB2sjuQAAurc5FnFP9lR7EZCXTfWK\n",
              "QPRGXOJRpY/8JIoiL5FVfPWxpiV2+gApBhtwSC1CaCL1BLO3CSO3oEJwcxWl+4mPXrEtI1p9ghy5\n",
              "MzXQZXXCv26gEFVAxq1QfIaWncGCTaAOTqUM5hSniufTOegs3SUAGMPgU6GA3oEAAABXQZrHSahB\n",
              "bJlMCEf//eEAAAMBY/WpL8LM+/5MppZppZFbZFH4tMzwOZz5EDAegVgiXRoAcRcJVvD8GWBdGwkH\n",
              "zs1OONlDsnzgr8Fkl6AiuVaDM10haBlRAAALo21vb3YAAABsbXZoZAAAAAAAAAAAAAAAAAAAA+gA\n",
              "ABOIAAEAAAEAAAAAAAAAAAAAAAABAAAAAAAAAAAAAAAAAAAAAQAAAAAAAAAAAAAAAAAAQAAAAAAA\n",
              "AAAAAAAAAAAAAAAAAAAAAAAAAAAAAAAAAAIAAArNdHJhawAAAFx0a2hkAAAAAwAAAAAAAAAAAAAA\n",
              "AQAAAAAAABOIAAAAAAAAAAAAAAAAAAAAAAABAAAAAAAAAAAAAAAAAAAAAQAAAAAAAAAAAAAAAAAA\n",
              "QAAAAASwAAACvAAAAAAAJGVkdHMAAAAcZWxzdAAAAAAAAAABAAATiAAAAgAAAQAAAAAKRW1kaWEA\n",
              "AAAgbWRoZAAAAAAAAAAAAAAAAAAAKAAAAMgAVcQAAAAAAC1oZGxyAAAAAAAAAAB2aWRlAAAAAAAA\n",
              "AAAAAAAAVmlkZW9IYW5kbGVyAAAACfBtaW5mAAAAFHZtaGQAAAABAAAAAAAAAAAAAAAkZGluZgAA\n",
              "ABxkcmVmAAAAAAAAAAEAAAAMdXJsIAAAAAEAAAmwc3RibAAAALhzdHNkAAAAAAAAAAEAAACoYXZj\n",
              "MQAAAAAAAAABAAAAAAAAAAAAAAAAAAAAAASwArwASAAAAEgAAAAAAAAAAQAAAAAAAAAAAAAAAAAA\n",
              "AAAAAAAAAAAAAAAAAAAAAAAAABj//wAAADZhdmNDAWQAIP/hABlnZAAgrNlASwWfuEAAAAMAQAAA\n",
              "FAPGDGWAAQAGaOvjyyLA/fj4AAAAABx1dWlka2hA8l8kT8W6OaUbzwMj8wAAAAAAAAAYc3R0cwAA\n",
              "AAAAAAABAAAAyAAAAQAAAAAUc3RzcwAAAAAAAAABAAAAAQAABWBjdHRzAAAAAAAAAKoAAAAEAAAC\n",
              "AAAAAAEAAAMAAAAAAQAAAQAAAAABAAAEAAAAAAIAAAEAAAAAAQAAAwAAAAABAAABAAAAAAEAAAUA\n",
              "AAAAAQAAAgAAAAABAAAAAAAAAAEAAAEAAAAAAQAABQAAAAABAAACAAAAAAEAAAAAAAAAAQAAAQAA\n",
              "AAABAAAFAAAAAAEAAAIAAAAAAQAAAAAAAAABAAABAAAAAAEAAAUAAAAAAQAAAgAAAAABAAAAAAAA\n",
              "AAEAAAEAAAAAAQAAAgAAAAABAAAFAAAAAAEAAAIAAAAAAQAAAAAAAAABAAABAAAAAAEAAAUAAAAA\n",
              "AQAAAgAAAAABAAAAAAAAAAEAAAEAAAAAAQAABAAAAAACAAABAAAAAAEAAAQAAAAAAgAAAQAAAAAB\n",
              "AAADAAAAAAEAAAEAAAAAAQAABAAAAAACAAABAAAAAAEAAAUAAAAAAQAAAgAAAAABAAAAAAAAAAEA\n",
              "AAEAAAAAAQAABAAAAAACAAABAAAAAAEAAAUAAAAAAQAAAgAAAAABAAAAAAAAAAEAAAEAAAAAAQAA\n",
              "AgAAAAABAAAFAAAAAAEAAAIAAAAAAQAAAAAAAAABAAABAAAAAAEAAAUAAAAAAQAAAgAAAAABAAAA\n",
              "AAAAAAEAAAEAAAAAAQAABAAAAAACAAABAAAAAAEAAAUAAAAAAQAAAgAAAAABAAAAAAAAAAEAAAEA\n",
              "AAAAAQAABAAAAAACAAABAAAAAAEAAAMAAAAAAQAAAQAAAAAEAAACAAAAAAEAAAUAAAAAAQAAAgAA\n",
              "AAABAAAAAAAAAAEAAAEAAAAAAQAABQAAAAABAAACAAAAAAEAAAAAAAAAAQAAAQAAAAABAAAEAAAA\n",
              "AAIAAAEAAAAAAQAABQAAAAABAAACAAAAAAEAAAAAAAAAAQAAAQAAAAABAAAEAAAAAAIAAAEAAAAA\n",
              "AQAABQAAAAABAAACAAAAAAEAAAAAAAAAAQAAAQAAAAABAAADAAAAAAEAAAEAAAAAAQAAAgAAAAAB\n",
              "AAAFAAAAAAEAAAIAAAAAAQAAAAAAAAABAAABAAAAAAEAAAUAAAAAAQAAAgAAAAABAAAAAAAAAAEA\n",
              "AAEAAAAAAQAABAAAAAACAAABAAAAAAUAAAIAAAAAAQAAAwAAAAABAAABAAAAAAEAAAQAAAAAAgAA\n",
              "AQAAAAABAAADAAAAAAEAAAEAAAAAAQAABQAAAAABAAACAAAAAAEAAAAAAAAAAQAAAQAAAAABAAAF\n",
              "AAAAAAEAAAIAAAAAAQAAAAAAAAABAAABAAAAAAEAAAUAAAAAAQAAAgAAAAABAAAAAAAAAAEAAAEA\n",
              "AAAAAQAABQAAAAABAAACAAAAAAEAAAAAAAAAAQAAAQAAAAABAAAEAAAAAAIAAAEAAAAAAQAABQAA\n",
              "AAABAAACAAAAAAEAAAAAAAAAAQAAAQAAAAABAAAEAAAAAAIAAAEAAAAAAwAAAgAAAAABAAADAAAA\n",
              "AAEAAAEAAAAAAQAAAwAAAAABAAABAAAAAAEAAAMAAAAAAQAAAQAAAAABAAAFAAAAAAEAAAIAAAAA\n",
              "AQAAAAAAAAABAAABAAAAAAEAAAUAAAAAAQAAAgAAAAABAAAAAAAAAAEAAAEAAAAAAQAABQAAAAAB\n",
              "AAACAAAAAAEAAAAAAAAAAQAAAQAAAAABAAAEAAAAAAIAAAEAAAAAAQAAAwAAAAABAAABAAAAAAEA\n",
              "AAQAAAAAAgAAAQAAAAABAAAEAAAAAAIAAAEAAAAAAQAABAAAAAACAAABAAAAAAEAAAQAAAAAAgAA\n",
              "AQAAAAABAAAFAAAAAAEAAAIAAAAAAQAAAAAAAAABAAABAAAAAAEAAAIAAAAAHHN0c2MAAAAAAAAA\n",
              "AQAAAAEAAADIAAAAAQAAAzRzdHN6AAAAAAAAAAAAAADIAAATUgAAAuUAAANRAAACfQAAAO8AAACU\n",
              "AAABFQAAAUkAAABvAAAAvwAAANIAAABwAAABZAAAAH8AAABaAAAAlwAAAGEAAACNAAAAbAAAAHIA\n",
              "AABlAAAAWgAAAIEAAABRAAAAxwAAAGcAAACFAAAAeAAAAIoAAACWAAAAngAAAE4AAABcAAAAeQAA\n",
              "AKMAAACNAAAAlAAAALwAAADKAAAAyQAAAGUAAADsAAAAxAAAAJ8AAAEPAAAAuAAAAG8AAACKAAAA\n",
              "yAAAAF4AAACAAAAAmQAAAIMAAAC5AAAAZAAAAKUAAABtAAAArgAAAHoAAABvAAAAyAAAAFsAAACj\n",
              "AAAAWQAAANkAAACOAAAAjQAAAIQAAADtAAAA9gAAAF4AAACmAAAAewAAAJ8AAACwAAAA7AAAAIoA\n",
              "AAB+AAAAmgAAAHcAAACnAAAAogAAAIoAAAD3AAAArwAAAH0AAABnAAAAmAAAAFAAAACGAAAAjwAA\n",
              "ALoAAAB6AAAAzwAAAIcAAADEAAAAcAAAAKsAAAC4AAAA0wAAAJIAAACCAAAAcAAAAH4AAAB7AAAA\n",
              "eQAAAFUAAABVAAAAWgAAAH4AAAClAAAAeQAAAGwAAABnAAAAlwAAAI4AAABiAAAAqgAAAMIAAACT\n",
              "AAAArwAAAKwAAACVAAAArQAAAIkAAACmAAAAsAAAAMoAAAB0AAAAhAAAANYAAACQAAAAoAAAAFYA\n",
              "AACfAAAAoQAAAHUAAACHAAAAdwAAAFsAAABRAAAAiAAAAHoAAABfAAAAkwAAAE8AAAB3AAAAhAAA\n",
              "AQMAAACUAAAAegAAAIkAAABuAAAAjQAAALQAAADeAAAAbAAAAHIAAAB0AAAAcAAAALcAAADjAAAA\n",
              "nwAAAHEAAADyAAAAugAAAKgAAACFAAAAkgAAAJgAAACMAAAARQAAAHQAAACvAAAAcgAAAJQAAABu\n",
              "AAAAmQAAALEAAABOAAAAXgAAAG4AAACVAAAAagAAAGwAAAEkAAAAowAAAF4AAACKAAAAlQAAAHAA\n",
              "AABhAAAAhAAAAF8AAABpAAAAhwAAAGsAAABVAAAAiQAAAFsAAAAUc3RjbwAAAAAAAAABAAAAMAAA\n",
              "AGJ1ZHRhAAAAWm1ldGEAAAAAAAAAIWhkbHIAAAAAAAAAAG1kaXJhcHBsAAAAAAAAAAAAAAAALWls\n",
              "c3QAAAAlqXRvbwAAAB1kYXRhAAAAAQAAAABMYXZmNTguNzYuMTAw\n",
              "\">\n",
              "  Your browser does not support the video tag.\n",
              "</video>"
            ]
          },
          "metadata": {},
          "execution_count": 24
        },
        {
          "output_type": "display_data",
          "data": {
            "text/plain": [
              "<Figure size 1200x700 with 1 Axes>"
            ],
            "image/png": "[encoded data removed]"
          },
          "metadata": {}
        }
      ],
      "source": [
        "from IPython.display import HTML\n",
        "\n",
        "idx = 67\n",
        "\n",
        "fig, ax = plt.subplots(facecolor='w', figsize=(12, 7))\n",
        "labels=['0', '1', '2', '3', '4', '5', '6', '7', '8','9']\n",
        "print(f\"The target label is: {targets[idx]}\")\n",
        "\n",
        "# plt.rcParams['animation.ffmpeg_path'] = 'C:\\\\path\\\\to\\\\your\\\\ffmpeg.exe'\n",
        "\n",
        "#  Plot spike count histogram\n",
        "anim = splt.spike_count(spk_rec[:, idx].detach().cpu(), fig, ax, labels=labels,\n",
        "                        animate=True, interpolate=4)\n",
        "\n",
        "HTML(anim.to_html5_video())\n",
        "# anim.save(\"spike_bar.mp4\")"
      ]
    },
    {
      "cell_type": "markdown",
      "metadata": {
        "id": "s0dAgWUt2o6E"
      },
      "source": [
        "# Conclusion\n",
        "You should now have a grasp of the basic features of snnTorch and be able to start running your own experiments. [In the next tutorial](https://snntorch.readthedocs.io/en/latest/tutorials/index.html), we will train a network using a neuromorphic dataset.\n",
        "\n",
        "A special thanks to [Gianfrancesco Angelini](https://github.com/gianfa) for providing valuable feedback on the tutorial.\n",
        "\n",
        "If you like this project, please consider starring ⭐ the repo on GitHub as it is the easiest and best way to support it."
      ]
    },
    {
      "cell_type": "markdown",
      "metadata": {
        "id": "q8eFeW-yeGci"
      },
      "source": [
        "# Additional Resources\n",
        "* [Check out the snnTorch GitHub project here.](https://github.com/jeshraghian/snntorch)"
      ]
    }
  ],
  "metadata": {
    "accelerator": "GPU",
    "colab": {
      "name": "snntorch_tutorial_6.ipynb",
      "provenance": [],
      "include_colab_link": true
    },
    "kernelspec": {
      "display_name": "Python 3",
      "language": "python",
      "name": "python3"
    },
    "language_info": {
      "codemirror_mode": {
        "name": "ipython",
        "version": 3
      },
      "file_extension": ".py",
      "mimetype": "text/x-python",
      "name": "python",
      "nbconvert_exporter": "python",
      "pygments_lexer": "ipython2",
      "version": "3.11.1 (v3.11.1:a7a450f84a, Dec  6 2022, 15:24:06) [Clang 13.0.0 (clang-1300.0.29.30)]"
    },
    "vscode": {
      "interpreter": {
        "hash": "aee8b7b246df8f9039afb4144a1f6fd8d2ca17a180786b69acc140d282b71a49"
      }
    }
  },
  "nbformat": 4,
  "nbformat_minor": 0
}